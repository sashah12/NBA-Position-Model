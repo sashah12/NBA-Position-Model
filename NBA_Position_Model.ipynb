{
  "nbformat": 4,
  "nbformat_minor": 0,
  "metadata": {
    "colab": {
      "name": "NBA Position Model.ipynb",
      "provenance": [],
      "collapsed_sections": []
    },
    "kernelspec": {
      "name": "python3",
      "display_name": "Python 3"
    },
    "language_info": {
      "name": "python"
    }
  },
  "cells": [
    {
      "cell_type": "code",
      "metadata": {
        "id": "eMIz8crv2bNR"
      },
      "source": [
        "#Importing Libraries\n",
        "import pandas as pd\n",
        "import numpy as np\n",
        "import matplotlib.pyplot as plt\n",
        "from sklearn.preprocessing import StandardScaler\n",
        "from sklearn.metrics import silhouette_score"
      ],
      "execution_count": null,
      "outputs": []
    },
    {
      "cell_type": "code",
      "metadata": {
        "id": "BLLPHpILPEkk"
      },
      "source": [
        "#Loading Datasets\n",
        "player_data = pd.read_csv('/content/drive/MyDrive/COGS 118B Final Project/Seasons_Stats.csv')\n",
        "player_height = pd.read_csv('/content/drive/MyDrive/COGS 118B Final Project/Players.csv')"
      ],
      "execution_count": null,
      "outputs": []
    },
    {
      "cell_type": "code",
      "metadata": {
        "id": "IallqZN9Sn1L",
        "colab": {
          "base_uri": "https://localhost:8080/",
          "height": 513
        },
        "outputId": "bb3bb980-c7c4-4d8b-de34-90f309a6aa1a"
      },
      "source": [
        "player_data"
      ],
      "execution_count": null,
      "outputs": [
        {
          "output_type": "execute_result",
          "data": {
            "text/html": [
              "<div>\n",
              "<style scoped>\n",
              "    .dataframe tbody tr th:only-of-type {\n",
              "        vertical-align: middle;\n",
              "    }\n",
              "\n",
              "    .dataframe tbody tr th {\n",
              "        vertical-align: top;\n",
              "    }\n",
              "\n",
              "    .dataframe thead th {\n",
              "        text-align: right;\n",
              "    }\n",
              "</style>\n",
              "<table border=\"1\" class=\"dataframe\">\n",
              "  <thead>\n",
              "    <tr style=\"text-align: right;\">\n",
              "      <th></th>\n",
              "      <th>Unnamed: 0</th>\n",
              "      <th>Year</th>\n",
              "      <th>Player</th>\n",
              "      <th>Pos</th>\n",
              "      <th>Age</th>\n",
              "      <th>Tm</th>\n",
              "      <th>G</th>\n",
              "      <th>GS</th>\n",
              "      <th>MP</th>\n",
              "      <th>PER</th>\n",
              "      <th>TS%</th>\n",
              "      <th>3PAr</th>\n",
              "      <th>FTr</th>\n",
              "      <th>ORB%</th>\n",
              "      <th>DRB%</th>\n",
              "      <th>TRB%</th>\n",
              "      <th>AST%</th>\n",
              "      <th>STL%</th>\n",
              "      <th>BLK%</th>\n",
              "      <th>TOV%</th>\n",
              "      <th>USG%</th>\n",
              "      <th>blanl</th>\n",
              "      <th>OWS</th>\n",
              "      <th>DWS</th>\n",
              "      <th>WS</th>\n",
              "      <th>WS/48</th>\n",
              "      <th>blank2</th>\n",
              "      <th>OBPM</th>\n",
              "      <th>DBPM</th>\n",
              "      <th>BPM</th>\n",
              "      <th>VORP</th>\n",
              "      <th>FG</th>\n",
              "      <th>FGA</th>\n",
              "      <th>FG%</th>\n",
              "      <th>3P</th>\n",
              "      <th>3PA</th>\n",
              "      <th>3P%</th>\n",
              "      <th>2P</th>\n",
              "      <th>2PA</th>\n",
              "      <th>2P%</th>\n",
              "      <th>eFG%</th>\n",
              "      <th>FT</th>\n",
              "      <th>FTA</th>\n",
              "      <th>FT%</th>\n",
              "      <th>ORB</th>\n",
              "      <th>DRB</th>\n",
              "      <th>TRB</th>\n",
              "      <th>AST</th>\n",
              "      <th>STL</th>\n",
              "      <th>BLK</th>\n",
              "      <th>TOV</th>\n",
              "      <th>PF</th>\n",
              "      <th>PTS</th>\n",
              "    </tr>\n",
              "  </thead>\n",
              "  <tbody>\n",
              "    <tr>\n",
              "      <th>0</th>\n",
              "      <td>0</td>\n",
              "      <td>1950.0</td>\n",
              "      <td>Curly Armstrong</td>\n",
              "      <td>G-F</td>\n",
              "      <td>31.0</td>\n",
              "      <td>FTW</td>\n",
              "      <td>63.0</td>\n",
              "      <td>NaN</td>\n",
              "      <td>NaN</td>\n",
              "      <td>NaN</td>\n",
              "      <td>0.368</td>\n",
              "      <td>NaN</td>\n",
              "      <td>0.467</td>\n",
              "      <td>NaN</td>\n",
              "      <td>NaN</td>\n",
              "      <td>NaN</td>\n",
              "      <td>NaN</td>\n",
              "      <td>NaN</td>\n",
              "      <td>NaN</td>\n",
              "      <td>NaN</td>\n",
              "      <td>NaN</td>\n",
              "      <td>NaN</td>\n",
              "      <td>-0.1</td>\n",
              "      <td>3.6</td>\n",
              "      <td>3.5</td>\n",
              "      <td>NaN</td>\n",
              "      <td>NaN</td>\n",
              "      <td>NaN</td>\n",
              "      <td>NaN</td>\n",
              "      <td>NaN</td>\n",
              "      <td>NaN</td>\n",
              "      <td>144.0</td>\n",
              "      <td>516.0</td>\n",
              "      <td>0.279</td>\n",
              "      <td>NaN</td>\n",
              "      <td>NaN</td>\n",
              "      <td>NaN</td>\n",
              "      <td>144.0</td>\n",
              "      <td>516.0</td>\n",
              "      <td>0.279</td>\n",
              "      <td>0.279</td>\n",
              "      <td>170.0</td>\n",
              "      <td>241.0</td>\n",
              "      <td>0.705</td>\n",
              "      <td>NaN</td>\n",
              "      <td>NaN</td>\n",
              "      <td>NaN</td>\n",
              "      <td>176.0</td>\n",
              "      <td>NaN</td>\n",
              "      <td>NaN</td>\n",
              "      <td>NaN</td>\n",
              "      <td>217.0</td>\n",
              "      <td>458.0</td>\n",
              "    </tr>\n",
              "    <tr>\n",
              "      <th>1</th>\n",
              "      <td>1</td>\n",
              "      <td>1950.0</td>\n",
              "      <td>Cliff Barker</td>\n",
              "      <td>SG</td>\n",
              "      <td>29.0</td>\n",
              "      <td>INO</td>\n",
              "      <td>49.0</td>\n",
              "      <td>NaN</td>\n",
              "      <td>NaN</td>\n",
              "      <td>NaN</td>\n",
              "      <td>0.435</td>\n",
              "      <td>NaN</td>\n",
              "      <td>0.387</td>\n",
              "      <td>NaN</td>\n",
              "      <td>NaN</td>\n",
              "      <td>NaN</td>\n",
              "      <td>NaN</td>\n",
              "      <td>NaN</td>\n",
              "      <td>NaN</td>\n",
              "      <td>NaN</td>\n",
              "      <td>NaN</td>\n",
              "      <td>NaN</td>\n",
              "      <td>1.6</td>\n",
              "      <td>0.6</td>\n",
              "      <td>2.2</td>\n",
              "      <td>NaN</td>\n",
              "      <td>NaN</td>\n",
              "      <td>NaN</td>\n",
              "      <td>NaN</td>\n",
              "      <td>NaN</td>\n",
              "      <td>NaN</td>\n",
              "      <td>102.0</td>\n",
              "      <td>274.0</td>\n",
              "      <td>0.372</td>\n",
              "      <td>NaN</td>\n",
              "      <td>NaN</td>\n",
              "      <td>NaN</td>\n",
              "      <td>102.0</td>\n",
              "      <td>274.0</td>\n",
              "      <td>0.372</td>\n",
              "      <td>0.372</td>\n",
              "      <td>75.0</td>\n",
              "      <td>106.0</td>\n",
              "      <td>0.708</td>\n",
              "      <td>NaN</td>\n",
              "      <td>NaN</td>\n",
              "      <td>NaN</td>\n",
              "      <td>109.0</td>\n",
              "      <td>NaN</td>\n",
              "      <td>NaN</td>\n",
              "      <td>NaN</td>\n",
              "      <td>99.0</td>\n",
              "      <td>279.0</td>\n",
              "    </tr>\n",
              "    <tr>\n",
              "      <th>2</th>\n",
              "      <td>2</td>\n",
              "      <td>1950.0</td>\n",
              "      <td>Leo Barnhorst</td>\n",
              "      <td>SF</td>\n",
              "      <td>25.0</td>\n",
              "      <td>CHS</td>\n",
              "      <td>67.0</td>\n",
              "      <td>NaN</td>\n",
              "      <td>NaN</td>\n",
              "      <td>NaN</td>\n",
              "      <td>0.394</td>\n",
              "      <td>NaN</td>\n",
              "      <td>0.259</td>\n",
              "      <td>NaN</td>\n",
              "      <td>NaN</td>\n",
              "      <td>NaN</td>\n",
              "      <td>NaN</td>\n",
              "      <td>NaN</td>\n",
              "      <td>NaN</td>\n",
              "      <td>NaN</td>\n",
              "      <td>NaN</td>\n",
              "      <td>NaN</td>\n",
              "      <td>0.9</td>\n",
              "      <td>2.8</td>\n",
              "      <td>3.6</td>\n",
              "      <td>NaN</td>\n",
              "      <td>NaN</td>\n",
              "      <td>NaN</td>\n",
              "      <td>NaN</td>\n",
              "      <td>NaN</td>\n",
              "      <td>NaN</td>\n",
              "      <td>174.0</td>\n",
              "      <td>499.0</td>\n",
              "      <td>0.349</td>\n",
              "      <td>NaN</td>\n",
              "      <td>NaN</td>\n",
              "      <td>NaN</td>\n",
              "      <td>174.0</td>\n",
              "      <td>499.0</td>\n",
              "      <td>0.349</td>\n",
              "      <td>0.349</td>\n",
              "      <td>90.0</td>\n",
              "      <td>129.0</td>\n",
              "      <td>0.698</td>\n",
              "      <td>NaN</td>\n",
              "      <td>NaN</td>\n",
              "      <td>NaN</td>\n",
              "      <td>140.0</td>\n",
              "      <td>NaN</td>\n",
              "      <td>NaN</td>\n",
              "      <td>NaN</td>\n",
              "      <td>192.0</td>\n",
              "      <td>438.0</td>\n",
              "    </tr>\n",
              "    <tr>\n",
              "      <th>3</th>\n",
              "      <td>3</td>\n",
              "      <td>1950.0</td>\n",
              "      <td>Ed Bartels</td>\n",
              "      <td>F</td>\n",
              "      <td>24.0</td>\n",
              "      <td>TOT</td>\n",
              "      <td>15.0</td>\n",
              "      <td>NaN</td>\n",
              "      <td>NaN</td>\n",
              "      <td>NaN</td>\n",
              "      <td>0.312</td>\n",
              "      <td>NaN</td>\n",
              "      <td>0.395</td>\n",
              "      <td>NaN</td>\n",
              "      <td>NaN</td>\n",
              "      <td>NaN</td>\n",
              "      <td>NaN</td>\n",
              "      <td>NaN</td>\n",
              "      <td>NaN</td>\n",
              "      <td>NaN</td>\n",
              "      <td>NaN</td>\n",
              "      <td>NaN</td>\n",
              "      <td>-0.5</td>\n",
              "      <td>-0.1</td>\n",
              "      <td>-0.6</td>\n",
              "      <td>NaN</td>\n",
              "      <td>NaN</td>\n",
              "      <td>NaN</td>\n",
              "      <td>NaN</td>\n",
              "      <td>NaN</td>\n",
              "      <td>NaN</td>\n",
              "      <td>22.0</td>\n",
              "      <td>86.0</td>\n",
              "      <td>0.256</td>\n",
              "      <td>NaN</td>\n",
              "      <td>NaN</td>\n",
              "      <td>NaN</td>\n",
              "      <td>22.0</td>\n",
              "      <td>86.0</td>\n",
              "      <td>0.256</td>\n",
              "      <td>0.256</td>\n",
              "      <td>19.0</td>\n",
              "      <td>34.0</td>\n",
              "      <td>0.559</td>\n",
              "      <td>NaN</td>\n",
              "      <td>NaN</td>\n",
              "      <td>NaN</td>\n",
              "      <td>20.0</td>\n",
              "      <td>NaN</td>\n",
              "      <td>NaN</td>\n",
              "      <td>NaN</td>\n",
              "      <td>29.0</td>\n",
              "      <td>63.0</td>\n",
              "    </tr>\n",
              "    <tr>\n",
              "      <th>4</th>\n",
              "      <td>4</td>\n",
              "      <td>1950.0</td>\n",
              "      <td>Ed Bartels</td>\n",
              "      <td>F</td>\n",
              "      <td>24.0</td>\n",
              "      <td>DNN</td>\n",
              "      <td>13.0</td>\n",
              "      <td>NaN</td>\n",
              "      <td>NaN</td>\n",
              "      <td>NaN</td>\n",
              "      <td>0.308</td>\n",
              "      <td>NaN</td>\n",
              "      <td>0.378</td>\n",
              "      <td>NaN</td>\n",
              "      <td>NaN</td>\n",
              "      <td>NaN</td>\n",
              "      <td>NaN</td>\n",
              "      <td>NaN</td>\n",
              "      <td>NaN</td>\n",
              "      <td>NaN</td>\n",
              "      <td>NaN</td>\n",
              "      <td>NaN</td>\n",
              "      <td>-0.5</td>\n",
              "      <td>-0.1</td>\n",
              "      <td>-0.6</td>\n",
              "      <td>NaN</td>\n",
              "      <td>NaN</td>\n",
              "      <td>NaN</td>\n",
              "      <td>NaN</td>\n",
              "      <td>NaN</td>\n",
              "      <td>NaN</td>\n",
              "      <td>21.0</td>\n",
              "      <td>82.0</td>\n",
              "      <td>0.256</td>\n",
              "      <td>NaN</td>\n",
              "      <td>NaN</td>\n",
              "      <td>NaN</td>\n",
              "      <td>21.0</td>\n",
              "      <td>82.0</td>\n",
              "      <td>0.256</td>\n",
              "      <td>0.256</td>\n",
              "      <td>17.0</td>\n",
              "      <td>31.0</td>\n",
              "      <td>0.548</td>\n",
              "      <td>NaN</td>\n",
              "      <td>NaN</td>\n",
              "      <td>NaN</td>\n",
              "      <td>20.0</td>\n",
              "      <td>NaN</td>\n",
              "      <td>NaN</td>\n",
              "      <td>NaN</td>\n",
              "      <td>27.0</td>\n",
              "      <td>59.0</td>\n",
              "    </tr>\n",
              "    <tr>\n",
              "      <th>...</th>\n",
              "      <td>...</td>\n",
              "      <td>...</td>\n",
              "      <td>...</td>\n",
              "      <td>...</td>\n",
              "      <td>...</td>\n",
              "      <td>...</td>\n",
              "      <td>...</td>\n",
              "      <td>...</td>\n",
              "      <td>...</td>\n",
              "      <td>...</td>\n",
              "      <td>...</td>\n",
              "      <td>...</td>\n",
              "      <td>...</td>\n",
              "      <td>...</td>\n",
              "      <td>...</td>\n",
              "      <td>...</td>\n",
              "      <td>...</td>\n",
              "      <td>...</td>\n",
              "      <td>...</td>\n",
              "      <td>...</td>\n",
              "      <td>...</td>\n",
              "      <td>...</td>\n",
              "      <td>...</td>\n",
              "      <td>...</td>\n",
              "      <td>...</td>\n",
              "      <td>...</td>\n",
              "      <td>...</td>\n",
              "      <td>...</td>\n",
              "      <td>...</td>\n",
              "      <td>...</td>\n",
              "      <td>...</td>\n",
              "      <td>...</td>\n",
              "      <td>...</td>\n",
              "      <td>...</td>\n",
              "      <td>...</td>\n",
              "      <td>...</td>\n",
              "      <td>...</td>\n",
              "      <td>...</td>\n",
              "      <td>...</td>\n",
              "      <td>...</td>\n",
              "      <td>...</td>\n",
              "      <td>...</td>\n",
              "      <td>...</td>\n",
              "      <td>...</td>\n",
              "      <td>...</td>\n",
              "      <td>...</td>\n",
              "      <td>...</td>\n",
              "      <td>...</td>\n",
              "      <td>...</td>\n",
              "      <td>...</td>\n",
              "      <td>...</td>\n",
              "      <td>...</td>\n",
              "      <td>...</td>\n",
              "    </tr>\n",
              "    <tr>\n",
              "      <th>24686</th>\n",
              "      <td>24686</td>\n",
              "      <td>2017.0</td>\n",
              "      <td>Cody Zeller</td>\n",
              "      <td>PF</td>\n",
              "      <td>24.0</td>\n",
              "      <td>CHO</td>\n",
              "      <td>62.0</td>\n",
              "      <td>58.0</td>\n",
              "      <td>1725.0</td>\n",
              "      <td>16.7</td>\n",
              "      <td>0.604</td>\n",
              "      <td>0.002</td>\n",
              "      <td>0.442</td>\n",
              "      <td>8.6</td>\n",
              "      <td>17.3</td>\n",
              "      <td>12.9</td>\n",
              "      <td>9.1</td>\n",
              "      <td>1.8</td>\n",
              "      <td>3.0</td>\n",
              "      <td>10.9</td>\n",
              "      <td>15.5</td>\n",
              "      <td>NaN</td>\n",
              "      <td>3.4</td>\n",
              "      <td>2.2</td>\n",
              "      <td>5.6</td>\n",
              "      <td>0.157</td>\n",
              "      <td>NaN</td>\n",
              "      <td>-0.2</td>\n",
              "      <td>2.3</td>\n",
              "      <td>2.1</td>\n",
              "      <td>1.8</td>\n",
              "      <td>253.0</td>\n",
              "      <td>443.0</td>\n",
              "      <td>0.571</td>\n",
              "      <td>0.0</td>\n",
              "      <td>1.0</td>\n",
              "      <td>0.000</td>\n",
              "      <td>253.0</td>\n",
              "      <td>442.0</td>\n",
              "      <td>0.572</td>\n",
              "      <td>0.571</td>\n",
              "      <td>133.0</td>\n",
              "      <td>196.0</td>\n",
              "      <td>0.679</td>\n",
              "      <td>135.0</td>\n",
              "      <td>270.0</td>\n",
              "      <td>405.0</td>\n",
              "      <td>99.0</td>\n",
              "      <td>62.0</td>\n",
              "      <td>58.0</td>\n",
              "      <td>65.0</td>\n",
              "      <td>189.0</td>\n",
              "      <td>639.0</td>\n",
              "    </tr>\n",
              "    <tr>\n",
              "      <th>24687</th>\n",
              "      <td>24687</td>\n",
              "      <td>2017.0</td>\n",
              "      <td>Tyler Zeller</td>\n",
              "      <td>C</td>\n",
              "      <td>27.0</td>\n",
              "      <td>BOS</td>\n",
              "      <td>51.0</td>\n",
              "      <td>5.0</td>\n",
              "      <td>525.0</td>\n",
              "      <td>13.0</td>\n",
              "      <td>0.508</td>\n",
              "      <td>0.006</td>\n",
              "      <td>0.247</td>\n",
              "      <td>9.2</td>\n",
              "      <td>17.0</td>\n",
              "      <td>13.2</td>\n",
              "      <td>12.2</td>\n",
              "      <td>0.7</td>\n",
              "      <td>3.3</td>\n",
              "      <td>10.2</td>\n",
              "      <td>16.5</td>\n",
              "      <td>NaN</td>\n",
              "      <td>0.5</td>\n",
              "      <td>0.6</td>\n",
              "      <td>1.0</td>\n",
              "      <td>0.094</td>\n",
              "      <td>NaN</td>\n",
              "      <td>-3.2</td>\n",
              "      <td>0.8</td>\n",
              "      <td>-2.5</td>\n",
              "      <td>-0.1</td>\n",
              "      <td>78.0</td>\n",
              "      <td>158.0</td>\n",
              "      <td>0.494</td>\n",
              "      <td>0.0</td>\n",
              "      <td>1.0</td>\n",
              "      <td>0.000</td>\n",
              "      <td>78.0</td>\n",
              "      <td>157.0</td>\n",
              "      <td>0.497</td>\n",
              "      <td>0.494</td>\n",
              "      <td>22.0</td>\n",
              "      <td>39.0</td>\n",
              "      <td>0.564</td>\n",
              "      <td>43.0</td>\n",
              "      <td>81.0</td>\n",
              "      <td>124.0</td>\n",
              "      <td>42.0</td>\n",
              "      <td>7.0</td>\n",
              "      <td>21.0</td>\n",
              "      <td>20.0</td>\n",
              "      <td>61.0</td>\n",
              "      <td>178.0</td>\n",
              "    </tr>\n",
              "    <tr>\n",
              "      <th>24688</th>\n",
              "      <td>24688</td>\n",
              "      <td>2017.0</td>\n",
              "      <td>Stephen Zimmerman</td>\n",
              "      <td>C</td>\n",
              "      <td>20.0</td>\n",
              "      <td>ORL</td>\n",
              "      <td>19.0</td>\n",
              "      <td>0.0</td>\n",
              "      <td>108.0</td>\n",
              "      <td>7.3</td>\n",
              "      <td>0.346</td>\n",
              "      <td>0.000</td>\n",
              "      <td>0.161</td>\n",
              "      <td>10.8</td>\n",
              "      <td>24.9</td>\n",
              "      <td>17.6</td>\n",
              "      <td>5.3</td>\n",
              "      <td>0.9</td>\n",
              "      <td>3.7</td>\n",
              "      <td>8.3</td>\n",
              "      <td>14.8</td>\n",
              "      <td>NaN</td>\n",
              "      <td>-0.1</td>\n",
              "      <td>0.1</td>\n",
              "      <td>0.0</td>\n",
              "      <td>-0.005</td>\n",
              "      <td>NaN</td>\n",
              "      <td>-7.8</td>\n",
              "      <td>0.4</td>\n",
              "      <td>-7.3</td>\n",
              "      <td>-0.1</td>\n",
              "      <td>10.0</td>\n",
              "      <td>31.0</td>\n",
              "      <td>0.323</td>\n",
              "      <td>0.0</td>\n",
              "      <td>0.0</td>\n",
              "      <td>NaN</td>\n",
              "      <td>10.0</td>\n",
              "      <td>31.0</td>\n",
              "      <td>0.323</td>\n",
              "      <td>0.323</td>\n",
              "      <td>3.0</td>\n",
              "      <td>5.0</td>\n",
              "      <td>0.600</td>\n",
              "      <td>11.0</td>\n",
              "      <td>24.0</td>\n",
              "      <td>35.0</td>\n",
              "      <td>4.0</td>\n",
              "      <td>2.0</td>\n",
              "      <td>5.0</td>\n",
              "      <td>3.0</td>\n",
              "      <td>17.0</td>\n",
              "      <td>23.0</td>\n",
              "    </tr>\n",
              "    <tr>\n",
              "      <th>24689</th>\n",
              "      <td>24689</td>\n",
              "      <td>2017.0</td>\n",
              "      <td>Paul Zipser</td>\n",
              "      <td>SF</td>\n",
              "      <td>22.0</td>\n",
              "      <td>CHI</td>\n",
              "      <td>44.0</td>\n",
              "      <td>18.0</td>\n",
              "      <td>843.0</td>\n",
              "      <td>6.9</td>\n",
              "      <td>0.503</td>\n",
              "      <td>0.448</td>\n",
              "      <td>0.181</td>\n",
              "      <td>1.9</td>\n",
              "      <td>14.2</td>\n",
              "      <td>8.0</td>\n",
              "      <td>6.1</td>\n",
              "      <td>0.9</td>\n",
              "      <td>1.5</td>\n",
              "      <td>14.4</td>\n",
              "      <td>14.4</td>\n",
              "      <td>NaN</td>\n",
              "      <td>-0.3</td>\n",
              "      <td>0.8</td>\n",
              "      <td>0.5</td>\n",
              "      <td>0.030</td>\n",
              "      <td>NaN</td>\n",
              "      <td>-3.6</td>\n",
              "      <td>-0.1</td>\n",
              "      <td>-3.7</td>\n",
              "      <td>-0.4</td>\n",
              "      <td>88.0</td>\n",
              "      <td>221.0</td>\n",
              "      <td>0.398</td>\n",
              "      <td>33.0</td>\n",
              "      <td>99.0</td>\n",
              "      <td>0.333</td>\n",
              "      <td>55.0</td>\n",
              "      <td>122.0</td>\n",
              "      <td>0.451</td>\n",
              "      <td>0.473</td>\n",
              "      <td>31.0</td>\n",
              "      <td>40.0</td>\n",
              "      <td>0.775</td>\n",
              "      <td>15.0</td>\n",
              "      <td>110.0</td>\n",
              "      <td>125.0</td>\n",
              "      <td>36.0</td>\n",
              "      <td>15.0</td>\n",
              "      <td>16.0</td>\n",
              "      <td>40.0</td>\n",
              "      <td>78.0</td>\n",
              "      <td>240.0</td>\n",
              "    </tr>\n",
              "    <tr>\n",
              "      <th>24690</th>\n",
              "      <td>24690</td>\n",
              "      <td>2017.0</td>\n",
              "      <td>Ivica Zubac</td>\n",
              "      <td>C</td>\n",
              "      <td>19.0</td>\n",
              "      <td>LAL</td>\n",
              "      <td>38.0</td>\n",
              "      <td>11.0</td>\n",
              "      <td>609.0</td>\n",
              "      <td>17.0</td>\n",
              "      <td>0.547</td>\n",
              "      <td>0.013</td>\n",
              "      <td>0.206</td>\n",
              "      <td>7.1</td>\n",
              "      <td>21.9</td>\n",
              "      <td>14.3</td>\n",
              "      <td>8.1</td>\n",
              "      <td>1.1</td>\n",
              "      <td>4.4</td>\n",
              "      <td>10.4</td>\n",
              "      <td>20.3</td>\n",
              "      <td>NaN</td>\n",
              "      <td>0.6</td>\n",
              "      <td>0.5</td>\n",
              "      <td>1.1</td>\n",
              "      <td>0.086</td>\n",
              "      <td>NaN</td>\n",
              "      <td>-2.7</td>\n",
              "      <td>0.3</td>\n",
              "      <td>-2.5</td>\n",
              "      <td>-0.1</td>\n",
              "      <td>126.0</td>\n",
              "      <td>238.0</td>\n",
              "      <td>0.529</td>\n",
              "      <td>0.0</td>\n",
              "      <td>3.0</td>\n",
              "      <td>0.000</td>\n",
              "      <td>126.0</td>\n",
              "      <td>235.0</td>\n",
              "      <td>0.536</td>\n",
              "      <td>0.529</td>\n",
              "      <td>32.0</td>\n",
              "      <td>49.0</td>\n",
              "      <td>0.653</td>\n",
              "      <td>41.0</td>\n",
              "      <td>118.0</td>\n",
              "      <td>159.0</td>\n",
              "      <td>30.0</td>\n",
              "      <td>14.0</td>\n",
              "      <td>33.0</td>\n",
              "      <td>30.0</td>\n",
              "      <td>66.0</td>\n",
              "      <td>284.0</td>\n",
              "    </tr>\n",
              "  </tbody>\n",
              "</table>\n",
              "<p>24691 rows × 53 columns</p>\n",
              "</div>"
            ],
            "text/plain": [
              "       Unnamed: 0    Year             Player  Pos  ...   BLK   TOV     PF    PTS\n",
              "0               0  1950.0    Curly Armstrong  G-F  ...   NaN   NaN  217.0  458.0\n",
              "1               1  1950.0       Cliff Barker   SG  ...   NaN   NaN   99.0  279.0\n",
              "2               2  1950.0      Leo Barnhorst   SF  ...   NaN   NaN  192.0  438.0\n",
              "3               3  1950.0         Ed Bartels    F  ...   NaN   NaN   29.0   63.0\n",
              "4               4  1950.0         Ed Bartels    F  ...   NaN   NaN   27.0   59.0\n",
              "...           ...     ...                ...  ...  ...   ...   ...    ...    ...\n",
              "24686       24686  2017.0        Cody Zeller   PF  ...  58.0  65.0  189.0  639.0\n",
              "24687       24687  2017.0       Tyler Zeller    C  ...  21.0  20.0   61.0  178.0\n",
              "24688       24688  2017.0  Stephen Zimmerman    C  ...   5.0   3.0   17.0   23.0\n",
              "24689       24689  2017.0        Paul Zipser   SF  ...  16.0  40.0   78.0  240.0\n",
              "24690       24690  2017.0        Ivica Zubac    C  ...  33.0  30.0   66.0  284.0\n",
              "\n",
              "[24691 rows x 53 columns]"
            ]
          },
          "metadata": {},
          "execution_count": 3
        }
      ]
    },
    {
      "cell_type": "code",
      "metadata": {
        "id": "NbW4cIUuaLaO"
      },
      "source": [
        "#Getting rid of all rows with Player = Null\n",
        "player_data = player_data[player_data.Player.notnull()]"
      ],
      "execution_count": null,
      "outputs": []
    },
    {
      "cell_type": "code",
      "metadata": {
        "id": "OExvIVqCXXjg"
      },
      "source": [
        "#First order by Player and Win Shares\n",
        "#Keep Best Season of for each player\n",
        "#Drop Players that had less than x win shares\n",
        "player_data = player_data.sort_values(by=['Year', 'Player'], ascending=[True, True])\n",
        "player_data = player_data.drop_duplicates(subset=['Player', 'Year'])\n",
        "player_data = player_data[player_data['WS'] <= 6]\n",
        "player_data = player_data[player_data['WS'] > 1]"
      ],
      "execution_count": null,
      "outputs": []
    },
    {
      "cell_type": "code",
      "metadata": {
        "id": "79qXNWdARdKG"
      },
      "source": [
        "#Keeping Variables we are Interested In\n",
        "player_data = player_data[['Year', 'Player', 'Pos', 'Age', 'TRB%', 'AST%', 'STL%', 'BLK%', 'FG%', '3P', '3PA', 'FT%']]"
      ],
      "execution_count": null,
      "outputs": []
    },
    {
      "cell_type": "code",
      "metadata": {
        "id": "wjTwHzQAS0Sg"
      },
      "source": [
        "#Moving Position to the end so we can see our outcome variable more clearly.\n",
        "player_data['Position'] = player_data['Pos']\n",
        "player_data = player_data.drop(['Pos'], axis=1)"
      ],
      "execution_count": null,
      "outputs": []
    },
    {
      "cell_type": "code",
      "metadata": {
        "id": "rkpf4AXXUHbg",
        "colab": {
          "base_uri": "https://localhost:8080/",
          "height": 423
        },
        "outputId": "4bcb55fa-bbd5-4728-bb1d-a1595e7b752f"
      },
      "source": [
        "#Second dataframe has height and weight data\n",
        "player_height = player_height[['Player', 'height', 'weight']]\n",
        "player_height"
      ],
      "execution_count": null,
      "outputs": [
        {
          "output_type": "execute_result",
          "data": {
            "text/html": [
              "<div>\n",
              "<style scoped>\n",
              "    .dataframe tbody tr th:only-of-type {\n",
              "        vertical-align: middle;\n",
              "    }\n",
              "\n",
              "    .dataframe tbody tr th {\n",
              "        vertical-align: top;\n",
              "    }\n",
              "\n",
              "    .dataframe thead th {\n",
              "        text-align: right;\n",
              "    }\n",
              "</style>\n",
              "<table border=\"1\" class=\"dataframe\">\n",
              "  <thead>\n",
              "    <tr style=\"text-align: right;\">\n",
              "      <th></th>\n",
              "      <th>Player</th>\n",
              "      <th>height</th>\n",
              "      <th>weight</th>\n",
              "    </tr>\n",
              "  </thead>\n",
              "  <tbody>\n",
              "    <tr>\n",
              "      <th>0</th>\n",
              "      <td>Curly Armstrong</td>\n",
              "      <td>180.0</td>\n",
              "      <td>77.0</td>\n",
              "    </tr>\n",
              "    <tr>\n",
              "      <th>1</th>\n",
              "      <td>Cliff Barker</td>\n",
              "      <td>188.0</td>\n",
              "      <td>83.0</td>\n",
              "    </tr>\n",
              "    <tr>\n",
              "      <th>2</th>\n",
              "      <td>Leo Barnhorst</td>\n",
              "      <td>193.0</td>\n",
              "      <td>86.0</td>\n",
              "    </tr>\n",
              "    <tr>\n",
              "      <th>3</th>\n",
              "      <td>Ed Bartels</td>\n",
              "      <td>196.0</td>\n",
              "      <td>88.0</td>\n",
              "    </tr>\n",
              "    <tr>\n",
              "      <th>4</th>\n",
              "      <td>Ralph Beard</td>\n",
              "      <td>178.0</td>\n",
              "      <td>79.0</td>\n",
              "    </tr>\n",
              "    <tr>\n",
              "      <th>...</th>\n",
              "      <td>...</td>\n",
              "      <td>...</td>\n",
              "      <td>...</td>\n",
              "    </tr>\n",
              "    <tr>\n",
              "      <th>3917</th>\n",
              "      <td>Troy Williams</td>\n",
              "      <td>198.0</td>\n",
              "      <td>97.0</td>\n",
              "    </tr>\n",
              "    <tr>\n",
              "      <th>3918</th>\n",
              "      <td>Kyle Wiltjer</td>\n",
              "      <td>208.0</td>\n",
              "      <td>108.0</td>\n",
              "    </tr>\n",
              "    <tr>\n",
              "      <th>3919</th>\n",
              "      <td>Stephen Zimmerman</td>\n",
              "      <td>213.0</td>\n",
              "      <td>108.0</td>\n",
              "    </tr>\n",
              "    <tr>\n",
              "      <th>3920</th>\n",
              "      <td>Paul Zipser</td>\n",
              "      <td>203.0</td>\n",
              "      <td>97.0</td>\n",
              "    </tr>\n",
              "    <tr>\n",
              "      <th>3921</th>\n",
              "      <td>Ivica Zubac</td>\n",
              "      <td>216.0</td>\n",
              "      <td>120.0</td>\n",
              "    </tr>\n",
              "  </tbody>\n",
              "</table>\n",
              "<p>3922 rows × 3 columns</p>\n",
              "</div>"
            ],
            "text/plain": [
              "                 Player  height  weight\n",
              "0       Curly Armstrong   180.0    77.0\n",
              "1          Cliff Barker   188.0    83.0\n",
              "2         Leo Barnhorst   193.0    86.0\n",
              "3            Ed Bartels   196.0    88.0\n",
              "4           Ralph Beard   178.0    79.0\n",
              "...                 ...     ...     ...\n",
              "3917      Troy Williams   198.0    97.0\n",
              "3918       Kyle Wiltjer   208.0   108.0\n",
              "3919  Stephen Zimmerman   213.0   108.0\n",
              "3920        Paul Zipser   203.0    97.0\n",
              "3921        Ivica Zubac   216.0   120.0\n",
              "\n",
              "[3922 rows x 3 columns]"
            ]
          },
          "metadata": {},
          "execution_count": 8
        }
      ]
    },
    {
      "cell_type": "code",
      "metadata": {
        "id": "csTzpEl0jzb1",
        "colab": {
          "base_uri": "https://localhost:8080/"
        },
        "outputId": "39ef8be8-192f-4060-ade4-0305452aa72d"
      },
      "source": [
        "from google.colab import drive\n",
        "drive.mount('/content/drive')"
      ],
      "execution_count": null,
      "outputs": [
        {
          "output_type": "stream",
          "name": "stdout",
          "text": [
            "Drive already mounted at /content/drive; to attempt to forcibly remount, call drive.mount(\"/content/drive\", force_remount=True).\n"
          ]
        }
      ]
    },
    {
      "cell_type": "code",
      "metadata": {
        "id": "DNKxW8oxU2xe",
        "colab": {
          "base_uri": "https://localhost:8080/",
          "height": 423
        },
        "outputId": "0a1353a5-ae18-4997-a56b-3f5b4847d5ab"
      },
      "source": [
        "#Joining the dataframes to match based on player height and weight.\n",
        "player_data = pd.merge(player_height, player_data,  on='Player')\n",
        "player_data"
      ],
      "execution_count": null,
      "outputs": [
        {
          "output_type": "execute_result",
          "data": {
            "text/html": [
              "<div>\n",
              "<style scoped>\n",
              "    .dataframe tbody tr th:only-of-type {\n",
              "        vertical-align: middle;\n",
              "    }\n",
              "\n",
              "    .dataframe tbody tr th {\n",
              "        vertical-align: top;\n",
              "    }\n",
              "\n",
              "    .dataframe thead th {\n",
              "        text-align: right;\n",
              "    }\n",
              "</style>\n",
              "<table border=\"1\" class=\"dataframe\">\n",
              "  <thead>\n",
              "    <tr style=\"text-align: right;\">\n",
              "      <th></th>\n",
              "      <th>Player</th>\n",
              "      <th>height</th>\n",
              "      <th>weight</th>\n",
              "      <th>Year</th>\n",
              "      <th>Age</th>\n",
              "      <th>TRB%</th>\n",
              "      <th>AST%</th>\n",
              "      <th>STL%</th>\n",
              "      <th>BLK%</th>\n",
              "      <th>FG%</th>\n",
              "      <th>3P</th>\n",
              "      <th>3PA</th>\n",
              "      <th>FT%</th>\n",
              "      <th>Position</th>\n",
              "    </tr>\n",
              "  </thead>\n",
              "  <tbody>\n",
              "    <tr>\n",
              "      <th>0</th>\n",
              "      <td>Curly Armstrong</td>\n",
              "      <td>180.0</td>\n",
              "      <td>77.0</td>\n",
              "      <td>1950.0</td>\n",
              "      <td>31.0</td>\n",
              "      <td>NaN</td>\n",
              "      <td>NaN</td>\n",
              "      <td>NaN</td>\n",
              "      <td>NaN</td>\n",
              "      <td>0.279</td>\n",
              "      <td>NaN</td>\n",
              "      <td>NaN</td>\n",
              "      <td>0.705</td>\n",
              "      <td>G-F</td>\n",
              "    </tr>\n",
              "    <tr>\n",
              "      <th>1</th>\n",
              "      <td>Cliff Barker</td>\n",
              "      <td>188.0</td>\n",
              "      <td>83.0</td>\n",
              "      <td>1950.0</td>\n",
              "      <td>29.0</td>\n",
              "      <td>NaN</td>\n",
              "      <td>NaN</td>\n",
              "      <td>NaN</td>\n",
              "      <td>NaN</td>\n",
              "      <td>0.372</td>\n",
              "      <td>NaN</td>\n",
              "      <td>NaN</td>\n",
              "      <td>0.708</td>\n",
              "      <td>SG</td>\n",
              "    </tr>\n",
              "    <tr>\n",
              "      <th>2</th>\n",
              "      <td>Leo Barnhorst</td>\n",
              "      <td>193.0</td>\n",
              "      <td>86.0</td>\n",
              "      <td>1950.0</td>\n",
              "      <td>25.0</td>\n",
              "      <td>NaN</td>\n",
              "      <td>NaN</td>\n",
              "      <td>NaN</td>\n",
              "      <td>NaN</td>\n",
              "      <td>0.349</td>\n",
              "      <td>NaN</td>\n",
              "      <td>NaN</td>\n",
              "      <td>0.698</td>\n",
              "      <td>SF</td>\n",
              "    </tr>\n",
              "    <tr>\n",
              "      <th>3</th>\n",
              "      <td>Leo Barnhorst</td>\n",
              "      <td>193.0</td>\n",
              "      <td>86.0</td>\n",
              "      <td>1951.0</td>\n",
              "      <td>26.0</td>\n",
              "      <td>NaN</td>\n",
              "      <td>NaN</td>\n",
              "      <td>NaN</td>\n",
              "      <td>NaN</td>\n",
              "      <td>0.346</td>\n",
              "      <td>NaN</td>\n",
              "      <td>NaN</td>\n",
              "      <td>0.689</td>\n",
              "      <td>SF</td>\n",
              "    </tr>\n",
              "    <tr>\n",
              "      <th>4</th>\n",
              "      <td>Leo Barnhorst</td>\n",
              "      <td>193.0</td>\n",
              "      <td>86.0</td>\n",
              "      <td>1952.0</td>\n",
              "      <td>27.0</td>\n",
              "      <td>NaN</td>\n",
              "      <td>NaN</td>\n",
              "      <td>NaN</td>\n",
              "      <td>NaN</td>\n",
              "      <td>0.389</td>\n",
              "      <td>NaN</td>\n",
              "      <td>NaN</td>\n",
              "      <td>0.652</td>\n",
              "      <td>SF</td>\n",
              "    </tr>\n",
              "    <tr>\n",
              "      <th>...</th>\n",
              "      <td>...</td>\n",
              "      <td>...</td>\n",
              "      <td>...</td>\n",
              "      <td>...</td>\n",
              "      <td>...</td>\n",
              "      <td>...</td>\n",
              "      <td>...</td>\n",
              "      <td>...</td>\n",
              "      <td>...</td>\n",
              "      <td>...</td>\n",
              "      <td>...</td>\n",
              "      <td>...</td>\n",
              "      <td>...</td>\n",
              "      <td>...</td>\n",
              "    </tr>\n",
              "    <tr>\n",
              "      <th>9384</th>\n",
              "      <td>Jamal Murray</td>\n",
              "      <td>193.0</td>\n",
              "      <td>93.0</td>\n",
              "      <td>2017.0</td>\n",
              "      <td>19.0</td>\n",
              "      <td>6.7</td>\n",
              "      <td>14.0</td>\n",
              "      <td>1.4</td>\n",
              "      <td>1.1</td>\n",
              "      <td>0.404</td>\n",
              "      <td>115.0</td>\n",
              "      <td>344.0</td>\n",
              "      <td>0.883</td>\n",
              "      <td>SG</td>\n",
              "    </tr>\n",
              "    <tr>\n",
              "      <th>9385</th>\n",
              "      <td>Jakob Poeltl</td>\n",
              "      <td>213.0</td>\n",
              "      <td>112.0</td>\n",
              "      <td>2017.0</td>\n",
              "      <td>21.0</td>\n",
              "      <td>14.9</td>\n",
              "      <td>2.7</td>\n",
              "      <td>1.4</td>\n",
              "      <td>2.8</td>\n",
              "      <td>0.583</td>\n",
              "      <td>0.0</td>\n",
              "      <td>0.0</td>\n",
              "      <td>0.544</td>\n",
              "      <td>C</td>\n",
              "    </tr>\n",
              "    <tr>\n",
              "      <th>9386</th>\n",
              "      <td>Pascal Siakam</td>\n",
              "      <td>206.0</td>\n",
              "      <td>104.0</td>\n",
              "      <td>2017.0</td>\n",
              "      <td>22.0</td>\n",
              "      <td>12.2</td>\n",
              "      <td>2.9</td>\n",
              "      <td>1.5</td>\n",
              "      <td>4.5</td>\n",
              "      <td>0.502</td>\n",
              "      <td>1.0</td>\n",
              "      <td>7.0</td>\n",
              "      <td>0.688</td>\n",
              "      <td>PF</td>\n",
              "    </tr>\n",
              "    <tr>\n",
              "      <th>9387</th>\n",
              "      <td>Taurean Waller-Prince</td>\n",
              "      <td>183.0</td>\n",
              "      <td>88.0</td>\n",
              "      <td>2017.0</td>\n",
              "      <td>22.0</td>\n",
              "      <td>8.8</td>\n",
              "      <td>8.4</td>\n",
              "      <td>2.2</td>\n",
              "      <td>2.4</td>\n",
              "      <td>0.400</td>\n",
              "      <td>33.0</td>\n",
              "      <td>102.0</td>\n",
              "      <td>0.787</td>\n",
              "      <td>SF</td>\n",
              "    </tr>\n",
              "    <tr>\n",
              "      <th>9388</th>\n",
              "      <td>Ivica Zubac</td>\n",
              "      <td>216.0</td>\n",
              "      <td>120.0</td>\n",
              "      <td>2017.0</td>\n",
              "      <td>19.0</td>\n",
              "      <td>14.3</td>\n",
              "      <td>8.1</td>\n",
              "      <td>1.1</td>\n",
              "      <td>4.4</td>\n",
              "      <td>0.529</td>\n",
              "      <td>0.0</td>\n",
              "      <td>3.0</td>\n",
              "      <td>0.653</td>\n",
              "      <td>C</td>\n",
              "    </tr>\n",
              "  </tbody>\n",
              "</table>\n",
              "<p>9389 rows × 14 columns</p>\n",
              "</div>"
            ],
            "text/plain": [
              "                     Player  height  weight  ...    3PA    FT%  Position\n",
              "0           Curly Armstrong   180.0    77.0  ...    NaN  0.705       G-F\n",
              "1              Cliff Barker   188.0    83.0  ...    NaN  0.708        SG\n",
              "2             Leo Barnhorst   193.0    86.0  ...    NaN  0.698        SF\n",
              "3             Leo Barnhorst   193.0    86.0  ...    NaN  0.689        SF\n",
              "4             Leo Barnhorst   193.0    86.0  ...    NaN  0.652        SF\n",
              "...                     ...     ...     ...  ...    ...    ...       ...\n",
              "9384           Jamal Murray   193.0    93.0  ...  344.0  0.883        SG\n",
              "9385           Jakob Poeltl   213.0   112.0  ...    0.0  0.544         C\n",
              "9386          Pascal Siakam   206.0   104.0  ...    7.0  0.688        PF\n",
              "9387  Taurean Waller-Prince   183.0    88.0  ...  102.0  0.787        SF\n",
              "9388            Ivica Zubac   216.0   120.0  ...    3.0  0.653         C\n",
              "\n",
              "[9389 rows x 14 columns]"
            ]
          },
          "metadata": {},
          "execution_count": 10
        }
      ]
    },
    {
      "cell_type": "code",
      "metadata": {
        "id": "yRgEUebGWk2Q"
      },
      "source": [
        "#Convert Position into numerical position\n",
        "player_data.Position.value_counts()\n",
        "position_map = {'PG': 1, 'SG': 2, 'SF': 3, 'PF' : 4, 'C' : 5, 'G-F': 3,\n",
        "                'G': 2, 'F-C': 5, 'F-G': 3, 'F': 3, 'C-F': 5, 'SG-SF': 3, 'C-PF': 5,\n",
        "                'PG-SG': 2, 'SF-SG': 3, 'PF-C': 5, 'SG-PG': 2, 'SG-PF': 4}\n",
        "player_data['Pos_map'] = player_data['Position']\n",
        "player_data['Pos_map'] = player_data['Pos_map'].map(position_map)"
      ],
      "execution_count": null,
      "outputs": []
    },
    {
      "cell_type": "markdown",
      "metadata": {
        "id": "hUcOq_YcUEBQ"
      },
      "source": [
        "EDA\n",
        "\n",
        "Lets take a look at the changes of position based stats over time."
      ]
    },
    {
      "cell_type": "code",
      "metadata": {
        "id": "b_XLkoT1UFCI",
        "colab": {
          "base_uri": "https://localhost:8080/",
          "height": 530
        },
        "outputId": "b7f796ab-9577-4230-d6e5-55ee2eb1adf9"
      },
      "source": [
        "#Average height over time\n",
        "avg_height = player_data.groupby('Year', as_index=False)['height'].mean()\n",
        "plt.figure(figsize=(20,8))\n",
        "plt.scatter(avg_height['Year'], avg_height['height'])\n",
        "plt.title('Average height of NBA Players over time')\n",
        "plt.xlabel('Year')\n",
        "plt.ylabel('Height(cm)')"
      ],
      "execution_count": null,
      "outputs": [
        {
          "output_type": "execute_result",
          "data": {
            "text/plain": [
              "Text(0, 0.5, 'Height(cm)')"
            ]
          },
          "metadata": {},
          "execution_count": 12
        },
        {
          "output_type": "display_data",
          "data": {
            "image/png": "[encoded data removed]",
            "text/plain": [
              "<Figure size 1440x576 with 1 Axes>"
            ]
          },
          "metadata": {
            "needs_background": "light"
          }
        }
      ]
    },
    {
      "cell_type": "code",
      "metadata": {
        "id": "E6hcQVeYrXJ-",
        "colab": {
          "base_uri": "https://localhost:8080/",
          "height": 1000
        },
        "outputId": "3a2ee6fa-7508-42bb-f99f-a97042206e0b"
      },
      "source": [
        "#Plotting average height by position over time\n",
        "avg_height = player_data.groupby(['Year', 'Pos_map'], as_index=False)['height'].mean()\n",
        "\n",
        "one = avg_height[avg_height['Pos_map'] == 1]\n",
        "two = avg_height[avg_height['Pos_map'] == 2]\n",
        "three = avg_height[avg_height['Pos_map'] == 3]\n",
        "four = avg_height[avg_height['Pos_map'] == 4]\n",
        "five = avg_height[avg_height['Pos_map'] == 5]\n",
        "\n",
        "fig, axs = plt.subplots(5, 1, figsize=(8,32))\n",
        "axs[0].scatter(one['Year'], one['height'])\n",
        "axs[1].scatter(two['Year'], two['height'])\n",
        "axs[2].scatter(three['Year'], three['height'])\n",
        "axs[3].scatter(four['Year'], four['height'])\n",
        "axs[4].scatter(five['Year'], five['height'])"
      ],
      "execution_count": null,
      "outputs": [
        {
          "output_type": "execute_result",
          "data": {
            "text/plain": [
              "<matplotlib.collections.PathCollection at 0x7f61c4c21f50>"
            ]
          },
          "metadata": {},
          "execution_count": 13
        },
        {
          "output_type": "display_data",
          "data": {
            "image/png": "[encoded data removed]",
            "text/plain": [
              "<Figure size 576x2304 with 5 Axes>"
            ]
          },
          "metadata": {
            "needs_background": "light"
          }
        }
      ]
    },
    {
      "cell_type": "code",
      "metadata": {
        "id": "zL-YmsDoyi4L",
        "colab": {
          "base_uri": "https://localhost:8080/",
          "height": 530
        },
        "outputId": "657ef75c-7ddb-4da6-e48c-44f5978ea25a"
      },
      "source": [
        "#Plotting Average weight over time\n",
        "avg_weight = player_data.groupby('Year', as_index=False)['weight'].mean()\n",
        "plt.figure(figsize=(20,8))\n",
        "plt.scatter(avg_weight['Year'], avg_weight['weight'])\n",
        "plt.title('Average weight of NBA Players over time')\n",
        "plt.xlabel('Year')\n",
        "plt.ylabel('Weight(kg)')"
      ],
      "execution_count": null,
      "outputs": [
        {
          "output_type": "execute_result",
          "data": {
            "text/plain": [
              "Text(0, 0.5, 'Weight(kg)')"
            ]
          },
          "metadata": {},
          "execution_count": 14
        },
        {
          "output_type": "display_data",
          "data": {
            "image/png": "[encoded data removed]",
            "text/plain": [
              "<Figure size 1440x576 with 1 Axes>"
            ]
          },
          "metadata": {
            "needs_background": "light"
          }
        }
      ]
    },
    {
      "cell_type": "code",
      "metadata": {
        "id": "TeZ0Wz7D0ON1",
        "colab": {
          "base_uri": "https://localhost:8080/",
          "height": 1000
        },
        "outputId": "bb1510a6-8304-437d-cfb2-ef635ffc474e"
      },
      "source": [
        "#Plotting heights and weights for each position over time.\n",
        "avg_weight = player_data.groupby(['Year', 'Pos_map'], as_index=False)['weight'].mean()\n",
        "\n",
        "one = avg_weight[avg_weight['Pos_map'] == 1]\n",
        "two = avg_weight[avg_weight['Pos_map'] == 2]\n",
        "three = avg_weight[avg_weight['Pos_map'] == 3]\n",
        "four = avg_weight[avg_weight['Pos_map'] == 4]\n",
        "five = avg_weight[avg_weight['Pos_map'] == 5]\n",
        "\n",
        "fig, axs = plt.subplots(5, 1, figsize=(8,32))\n",
        "axs[0].scatter(one['Year'], one['weight'])\n",
        "axs[1].scatter(two['Year'], two['weight'])\n",
        "axs[2].scatter(three['Year'], three['weight'])\n",
        "axs[3].scatter(four['Year'], four['weight'])\n",
        "axs[4].scatter(five['Year'], five['weight'])"
      ],
      "execution_count": null,
      "outputs": [
        {
          "output_type": "execute_result",
          "data": {
            "text/plain": [
              "<matplotlib.collections.PathCollection at 0x7f61c49cab10>"
            ]
          },
          "metadata": {},
          "execution_count": 15
        },
        {
          "output_type": "display_data",
          "data": {
            "image/png": "[encoded data removed]",
            "text/plain": [
              "<Figure size 576x2304 with 5 Axes>"
            ]
          },
          "metadata": {
            "needs_background": "light"
          }
        }
      ]
    },
    {
      "cell_type": "markdown",
      "metadata": {
        "id": "H2kotHCz6jVm"
      },
      "source": [
        "It is common knowledge that height and weight are two important variables in determining what position a player plays. Since there is high variability of heights and weights before 2010 in all positions, we can solely focus our data on the past 10 years to ensure more accuracy of our eventual model output. We can also rid of weight since it has been fluctuating randomly."
      ]
    },
    {
      "cell_type": "code",
      "metadata": {
        "id": "wNXAhc_B6fjB"
      },
      "source": [
        "#2010 and onwards\n",
        "player_data_2010 = player_data[player_data['Year'] >= 2010]\n",
        "player_data_2010 = player_data_2010.drop(['weight'], axis = 1)"
      ],
      "execution_count": null,
      "outputs": []
    },
    {
      "cell_type": "code",
      "metadata": {
        "id": "elSrWGO972ka",
        "colab": {
          "base_uri": "https://localhost:8080/",
          "height": 423
        },
        "outputId": "71d41554-5951-4e33-c1d5-92b53ce542af"
      },
      "source": [
        "#Take a look at how 3 pt % has evolved over time.\n",
        "#Replace NaN's as 0 in 3 pt% column.\n",
        "# player_data_2010['3P%'] = player_data_2010['3P%'].fillna(0)\n",
        "player_data_2010"
      ],
      "execution_count": null,
      "outputs": [
        {
          "output_type": "execute_result",
          "data": {
            "text/html": [
              "<div>\n",
              "<style scoped>\n",
              "    .dataframe tbody tr th:only-of-type {\n",
              "        vertical-align: middle;\n",
              "    }\n",
              "\n",
              "    .dataframe tbody tr th {\n",
              "        vertical-align: top;\n",
              "    }\n",
              "\n",
              "    .dataframe thead th {\n",
              "        text-align: right;\n",
              "    }\n",
              "</style>\n",
              "<table border=\"1\" class=\"dataframe\">\n",
              "  <thead>\n",
              "    <tr style=\"text-align: right;\">\n",
              "      <th></th>\n",
              "      <th>Player</th>\n",
              "      <th>height</th>\n",
              "      <th>Year</th>\n",
              "      <th>Age</th>\n",
              "      <th>TRB%</th>\n",
              "      <th>AST%</th>\n",
              "      <th>STL%</th>\n",
              "      <th>BLK%</th>\n",
              "      <th>FG%</th>\n",
              "      <th>3P</th>\n",
              "      <th>3PA</th>\n",
              "      <th>FT%</th>\n",
              "      <th>Position</th>\n",
              "      <th>Pos_map</th>\n",
              "    </tr>\n",
              "  </thead>\n",
              "  <tbody>\n",
              "    <tr>\n",
              "      <th>1383</th>\n",
              "      <td>Greg Smith</td>\n",
              "      <td>196.0</td>\n",
              "      <td>2013.0</td>\n",
              "      <td>22.0</td>\n",
              "      <td>16.4</td>\n",
              "      <td>3.5</td>\n",
              "      <td>0.8</td>\n",
              "      <td>2.7</td>\n",
              "      <td>0.620</td>\n",
              "      <td>0.0</td>\n",
              "      <td>1.0</td>\n",
              "      <td>0.623</td>\n",
              "      <td>C</td>\n",
              "      <td>5.0</td>\n",
              "    </tr>\n",
              "    <tr>\n",
              "      <th>2259</th>\n",
              "      <td>Mike Dunleavy</td>\n",
              "      <td>190.0</td>\n",
              "      <td>2010.0</td>\n",
              "      <td>29.0</td>\n",
              "      <td>8.7</td>\n",
              "      <td>11.3</td>\n",
              "      <td>1.3</td>\n",
              "      <td>0.7</td>\n",
              "      <td>0.410</td>\n",
              "      <td>75.0</td>\n",
              "      <td>236.0</td>\n",
              "      <td>0.842</td>\n",
              "      <td>SF</td>\n",
              "      <td>3.0</td>\n",
              "    </tr>\n",
              "    <tr>\n",
              "      <th>2260</th>\n",
              "      <td>Mike Dunleavy</td>\n",
              "      <td>190.0</td>\n",
              "      <td>2011.0</td>\n",
              "      <td>30.0</td>\n",
              "      <td>9.1</td>\n",
              "      <td>10.1</td>\n",
              "      <td>1.2</td>\n",
              "      <td>1.3</td>\n",
              "      <td>0.462</td>\n",
              "      <td>102.0</td>\n",
              "      <td>254.0</td>\n",
              "      <td>0.800</td>\n",
              "      <td>SG</td>\n",
              "      <td>2.0</td>\n",
              "    </tr>\n",
              "    <tr>\n",
              "      <th>2261</th>\n",
              "      <td>Mike Dunleavy</td>\n",
              "      <td>190.0</td>\n",
              "      <td>2012.0</td>\n",
              "      <td>31.0</td>\n",
              "      <td>7.8</td>\n",
              "      <td>13.0</td>\n",
              "      <td>1.0</td>\n",
              "      <td>0.4</td>\n",
              "      <td>0.474</td>\n",
              "      <td>83.0</td>\n",
              "      <td>208.0</td>\n",
              "      <td>0.811</td>\n",
              "      <td>SF</td>\n",
              "      <td>3.0</td>\n",
              "    </tr>\n",
              "    <tr>\n",
              "      <th>2262</th>\n",
              "      <td>Mike Dunleavy</td>\n",
              "      <td>190.0</td>\n",
              "      <td>2013.0</td>\n",
              "      <td>32.0</td>\n",
              "      <td>8.0</td>\n",
              "      <td>11.5</td>\n",
              "      <td>1.0</td>\n",
              "      <td>1.3</td>\n",
              "      <td>0.442</td>\n",
              "      <td>128.0</td>\n",
              "      <td>299.0</td>\n",
              "      <td>0.820</td>\n",
              "      <td>SF</td>\n",
              "      <td>3.0</td>\n",
              "    </tr>\n",
              "    <tr>\n",
              "      <th>...</th>\n",
              "      <td>...</td>\n",
              "      <td>...</td>\n",
              "      <td>...</td>\n",
              "      <td>...</td>\n",
              "      <td>...</td>\n",
              "      <td>...</td>\n",
              "      <td>...</td>\n",
              "      <td>...</td>\n",
              "      <td>...</td>\n",
              "      <td>...</td>\n",
              "      <td>...</td>\n",
              "      <td>...</td>\n",
              "      <td>...</td>\n",
              "      <td>...</td>\n",
              "    </tr>\n",
              "    <tr>\n",
              "      <th>9384</th>\n",
              "      <td>Jamal Murray</td>\n",
              "      <td>193.0</td>\n",
              "      <td>2017.0</td>\n",
              "      <td>19.0</td>\n",
              "      <td>6.7</td>\n",
              "      <td>14.0</td>\n",
              "      <td>1.4</td>\n",
              "      <td>1.1</td>\n",
              "      <td>0.404</td>\n",
              "      <td>115.0</td>\n",
              "      <td>344.0</td>\n",
              "      <td>0.883</td>\n",
              "      <td>SG</td>\n",
              "      <td>2.0</td>\n",
              "    </tr>\n",
              "    <tr>\n",
              "      <th>9385</th>\n",
              "      <td>Jakob Poeltl</td>\n",
              "      <td>213.0</td>\n",
              "      <td>2017.0</td>\n",
              "      <td>21.0</td>\n",
              "      <td>14.9</td>\n",
              "      <td>2.7</td>\n",
              "      <td>1.4</td>\n",
              "      <td>2.8</td>\n",
              "      <td>0.583</td>\n",
              "      <td>0.0</td>\n",
              "      <td>0.0</td>\n",
              "      <td>0.544</td>\n",
              "      <td>C</td>\n",
              "      <td>5.0</td>\n",
              "    </tr>\n",
              "    <tr>\n",
              "      <th>9386</th>\n",
              "      <td>Pascal Siakam</td>\n",
              "      <td>206.0</td>\n",
              "      <td>2017.0</td>\n",
              "      <td>22.0</td>\n",
              "      <td>12.2</td>\n",
              "      <td>2.9</td>\n",
              "      <td>1.5</td>\n",
              "      <td>4.5</td>\n",
              "      <td>0.502</td>\n",
              "      <td>1.0</td>\n",
              "      <td>7.0</td>\n",
              "      <td>0.688</td>\n",
              "      <td>PF</td>\n",
              "      <td>4.0</td>\n",
              "    </tr>\n",
              "    <tr>\n",
              "      <th>9387</th>\n",
              "      <td>Taurean Waller-Prince</td>\n",
              "      <td>183.0</td>\n",
              "      <td>2017.0</td>\n",
              "      <td>22.0</td>\n",
              "      <td>8.8</td>\n",
              "      <td>8.4</td>\n",
              "      <td>2.2</td>\n",
              "      <td>2.4</td>\n",
              "      <td>0.400</td>\n",
              "      <td>33.0</td>\n",
              "      <td>102.0</td>\n",
              "      <td>0.787</td>\n",
              "      <td>SF</td>\n",
              "      <td>3.0</td>\n",
              "    </tr>\n",
              "    <tr>\n",
              "      <th>9388</th>\n",
              "      <td>Ivica Zubac</td>\n",
              "      <td>216.0</td>\n",
              "      <td>2017.0</td>\n",
              "      <td>19.0</td>\n",
              "      <td>14.3</td>\n",
              "      <td>8.1</td>\n",
              "      <td>1.1</td>\n",
              "      <td>4.4</td>\n",
              "      <td>0.529</td>\n",
              "      <td>0.0</td>\n",
              "      <td>3.0</td>\n",
              "      <td>0.653</td>\n",
              "      <td>C</td>\n",
              "      <td>5.0</td>\n",
              "    </tr>\n",
              "  </tbody>\n",
              "</table>\n",
              "<p>1861 rows × 14 columns</p>\n",
              "</div>"
            ],
            "text/plain": [
              "                     Player  height    Year  ...    FT%  Position  Pos_map\n",
              "1383             Greg Smith   196.0  2013.0  ...  0.623         C      5.0\n",
              "2259          Mike Dunleavy   190.0  2010.0  ...  0.842        SF      3.0\n",
              "2260          Mike Dunleavy   190.0  2011.0  ...  0.800        SG      2.0\n",
              "2261          Mike Dunleavy   190.0  2012.0  ...  0.811        SF      3.0\n",
              "2262          Mike Dunleavy   190.0  2013.0  ...  0.820        SF      3.0\n",
              "...                     ...     ...     ...  ...    ...       ...      ...\n",
              "9384           Jamal Murray   193.0  2017.0  ...  0.883        SG      2.0\n",
              "9385           Jakob Poeltl   213.0  2017.0  ...  0.544         C      5.0\n",
              "9386          Pascal Siakam   206.0  2017.0  ...  0.688        PF      4.0\n",
              "9387  Taurean Waller-Prince   183.0  2017.0  ...  0.787        SF      3.0\n",
              "9388            Ivica Zubac   216.0  2017.0  ...  0.653         C      5.0\n",
              "\n",
              "[1861 rows x 14 columns]"
            ]
          },
          "metadata": {},
          "execution_count": 17
        }
      ]
    },
    {
      "cell_type": "code",
      "metadata": {
        "id": "dCtxVisIggyA",
        "colab": {
          "base_uri": "https://localhost:8080/",
          "height": 1000
        },
        "outputId": "84ebb3dd-2660-4168-83c5-2ecb8d253c2e"
      },
      "source": [
        "avg_3 = player_data_2010.groupby(['Year', 'Pos_map'], as_index=False)['3PA'].mean()\n",
        "\n",
        "one = avg_3[avg_3['Pos_map'] == 1]\n",
        "two = avg_3[avg_3['Pos_map'] == 2]\n",
        "three = avg_3[avg_3['Pos_map'] == 3]\n",
        "four = avg_3[avg_3['Pos_map'] == 4]\n",
        "five = avg_3[avg_3['Pos_map'] == 5]\n",
        "\n",
        "fig, axs = plt.subplots(5, 1, figsize=(8,32))\n",
        "axs[0].scatter(one['Year'], one['3PA'])\n",
        "axs[1].scatter(two['Year'], two['3PA'])\n",
        "axs[2].scatter(three['Year'], three['3PA'])\n",
        "axs[3].scatter(four['Year'], four['3PA'])\n",
        "axs[4].scatter(five['Year'], five['3PA'])"
      ],
      "execution_count": null,
      "outputs": [
        {
          "output_type": "execute_result",
          "data": {
            "text/plain": [
              "<matplotlib.collections.PathCollection at 0x7f61c478cad0>"
            ]
          },
          "metadata": {},
          "execution_count": 18
        },
        {
          "output_type": "display_data",
          "data": {
            "image/png": "[encoded data removed]",
            "text/plain": [
              "<Figure size 576x2304 with 5 Axes>"
            ]
          },
          "metadata": {
            "needs_background": "light"
          }
        }
      ]
    },
    {
      "cell_type": "markdown",
      "metadata": {
        "id": "JOV9q294l2gv"
      },
      "source": [
        "Since 3 Pointers made and attempt rate have been skyrocketting after the 2016 season, we need more data since the game is being played completely differently as compared to the 2015 season and  before. We will gather more data from 2018 and beyond."
      ]
    },
    {
      "cell_type": "code",
      "metadata": {
        "id": "kTh3SD8EmJRa"
      },
      "source": [
        "#Read in stats for 2018-2020 seasons\n",
        "nba2018 = pd.read_csv('/content/drive/MyDrive/COGS 118B Final Project/nbadata2018.csv')\n",
        "nba2019 = pd.read_csv('/content/drive/MyDrive/COGS 118B Final Project/nbadata2019.csv')\n",
        "nba2020 = pd.read_csv('/content/drive/MyDrive/COGS 118B Final Project/nbadata2020.csv')"
      ],
      "execution_count": null,
      "outputs": []
    },
    {
      "cell_type": "code",
      "metadata": {
        "id": "oSty3wTz90j9"
      },
      "source": [
        "#Preprocessing, getting rid of duplicate players\n",
        "nba2018['TRB%'] = nba2018['DRB%'] + nba2018['ORB%']\n",
        "nba2019['TRB%'] = nba2019['DRB%'] + nba2019['ORB%']\n",
        "nba2020['TRB%'] = nba2020['DRB%'] + nba2020['ORB%']\n",
        "nba2018['WS'] = nba2018['OWS'] + nba2018['DWS']\n",
        "nba2019['WS'] = nba2019['OWS'] + nba2019['DWS']\n",
        "nba2020['WS'] = nba2020['OWS'] + nba2020['DWS']\n",
        "nba2018 = nba2018.sort_values(by=['Year', 'Player'], ascending=[True, True])\n",
        "nba2018 = nba2018.drop_duplicates(subset=['Player', 'Year'])\n",
        "nba2019 = nba2019.sort_values(by=['Year', 'Player'], ascending=[True, True])\n",
        "nba2019 = nba2019.drop_duplicates(subset=['Player', 'Year'])\n",
        "nba2020 = nba2020.sort_values(by=['Year', 'Player'], ascending=[True, True])\n",
        "nba2020 = nba2020.drop_duplicates(subset=['Player', 'Year'])\n",
        "nba2018 = nba2018[nba2018['WS'] <= 6]\n",
        "nba2018 = nba2018[nba2018['WS'] > 1]\n",
        "nba2019 = nba2019[nba2019['WS'] <= 6]\n",
        "nba2019 = nba2019[nba2019['WS'] > 1]\n",
        "nba2020 = nba2020[nba2020['WS'] <= 6]\n",
        "nba2020 = nba2020[nba2020['WS'] > 1]"
      ],
      "execution_count": null,
      "outputs": []
    },
    {
      "cell_type": "code",
      "metadata": {
        "id": "OKbnGRZhwTa_"
      },
      "source": [
        "#Read in Height/Weight for players\n",
        "nbahw = pd.read_csv('/content/drive/MyDrive/COGS 118B Final Project/all_seasons.csv')"
      ],
      "execution_count": null,
      "outputs": []
    },
    {
      "cell_type": "code",
      "metadata": {
        "id": "HJmE5InHwjk4"
      },
      "source": [
        "#Position stats for 2018-2020\n",
        "nbapos2018 = pd.read_csv('/content/drive/MyDrive/COGS 118B Final Project/nba2018.csv')\n",
        "nbapos2019 = pd.read_csv('/content/drive/MyDrive/COGS 118B Final Project/nba2019.csv')\n",
        "nbapos2020 = pd.read_csv('/content/drive/MyDrive/COGS 118B Final Project/nba2020.csv')"
      ],
      "execution_count": null,
      "outputs": []
    },
    {
      "cell_type": "code",
      "metadata": {
        "id": "TYnTeTFexsSR"
      },
      "source": [
        "#Strip '\\' from player name\n",
        "\n",
        "def extract_name(player):\n",
        "    playername = player[ :player.find(\"\\\\\")]\n",
        "    return playername\n",
        "\n",
        "nba2018['Player'] = nba2018['Player'].apply(extract_name)\n",
        "nba2019['Player'] = nba2019['Player'].apply(extract_name)\n",
        "nba2020['Player'] = nba2020['Player'].apply(extract_name)"
      ],
      "execution_count": null,
      "outputs": []
    },
    {
      "cell_type": "code",
      "metadata": {
        "id": "odoRo3Rw3jjZ",
        "colab": {
          "base_uri": "https://localhost:8080/"
        },
        "outputId": "a21c6c24-037b-4c3d-83ff-96cf906d0f5f"
      },
      "source": [
        "#Preprocessing Seperate Datasets to be added to the main one\n",
        "nbahw2018 = nbahw[nbahw['season'] == '2017-18']\n",
        "nbahw2019 = nbahw[nbahw['season'] == '2018-19']\n",
        "nbahw2020 = nbahw[nbahw['season'] == '2019-20']\n",
        "nbahw2018.rename(columns={'player_name': 'Player', 'player_height': 'height', 'player_weight' : 'weight'}, inplace=True)\n",
        "nbahw2019.rename(columns={'player_name': 'Player', 'player_height': 'height', 'player_weight' : 'weight'}, inplace=True)\n",
        "nbahw2020.rename(columns={'player_name': 'Player', 'player_height': 'height', 'player_weight' : 'weight'}, inplace=True)\n",
        "nbahw2018 = nbahw2018[['Player', 'height']]\n",
        "nbahw2019 = nbahw2019[['Player', 'height']]\n",
        "nbahw2020 = nbahw2020[['Player', 'height']]"
      ],
      "execution_count": null,
      "outputs": [
        {
          "output_type": "stream",
          "name": "stderr",
          "text": [
            "/usr/local/lib/python3.7/dist-packages/pandas/core/frame.py:4308: SettingWithCopyWarning: \n",
            "A value is trying to be set on a copy of a slice from a DataFrame\n",
            "\n",
            "See the caveats in the documentation: https://pandas.pydata.org/pandas-docs/stable/user_guide/indexing.html#returning-a-view-versus-a-copy\n",
            "  errors=errors,\n"
          ]
        }
      ]
    },
    {
      "cell_type": "code",
      "metadata": {
        "id": "KOv4y-tZ48eL",
        "colab": {
          "base_uri": "https://localhost:8080/"
        },
        "outputId": "0ded0a5f-65d7-4540-df7b-a72e42d50a76"
      },
      "source": [
        "#Getting Position Dataset and adding it to the main one\n",
        "nbapos2018 = nbapos2018[['Player', 'Pos']]\n",
        "nbapos2019 = nbapos2019[['Player', 'Pos']]\n",
        "nbapos2020 = nbapos2020[['Player', 'Pos']]\n",
        "nbapos2018.rename(columns={'Pos': 'Position'}, inplace=True)\n",
        "nbapos2019.rename(columns={'Pos': 'Position'}, inplace=True)\n",
        "nbapos2020.rename(columns={'Pos': 'Position'}, inplace=True)\n",
        "nba2018 = pd.merge(nba2018, nbapos2018, on='Player')\n",
        "nba2018all = pd.merge(nba2018, nbahw2018, on= 'Player')\n",
        "nba2019 = pd.merge(nba2019, nbapos2019, on='Player')\n",
        "nba2019all = pd.merge(nba2019, nbahw2019, on= 'Player')\n",
        "nba2020 = pd.merge(nba2020, nbapos2020, on='Player')\n",
        "nba2020all = pd.merge(nba2020, nbahw2020, on= 'Player')"
      ],
      "execution_count": null,
      "outputs": [
        {
          "output_type": "stream",
          "name": "stderr",
          "text": [
            "/usr/local/lib/python3.7/dist-packages/pandas/core/frame.py:4308: SettingWithCopyWarning: \n",
            "A value is trying to be set on a copy of a slice from a DataFrame\n",
            "\n",
            "See the caveats in the documentation: https://pandas.pydata.org/pandas-docs/stable/user_guide/indexing.html#returning-a-view-versus-a-copy\n",
            "  errors=errors,\n"
          ]
        }
      ]
    },
    {
      "cell_type": "code",
      "metadata": {
        "id": "Cob7p9iInePD"
      },
      "source": [
        "#Using same columns for the 3 datasets\n",
        "nba2018 = nba2018all[['Player', 'height', 'Year', 'Age', 'TRB%', 'AST%', 'STL%', 'BLK%', 'FG%', '3P', '3PA','FT%', 'Position']]\n",
        "nba2019 = nba2019all[['Player', 'height', 'Year', 'Age', 'TRB%', 'AST%', 'STL%', 'BLK%', 'FG%', '3P', '3PA','FT%', 'Position']]\n",
        "nba2020 = nba2020all[['Player', 'height', 'Year', 'Age', 'TRB%', 'AST%', 'STL%', 'BLK%', 'FG%', '3P', '3PA','FT%', 'Position']]"
      ],
      "execution_count": null,
      "outputs": []
    },
    {
      "cell_type": "code",
      "metadata": {
        "id": "cGLCinrynqJC",
        "colab": {
          "base_uri": "https://localhost:8080/"
        },
        "outputId": "55a1e62b-5118-487d-a8f2-4b754044583b"
      },
      "source": [
        "#Position Mapping\n",
        "nba2018.Position.value_counts()\n",
        "position_map = {'PG': 1, 'SG': 2, 'SF': 3, 'PF' : 4, 'C' : 5, 'PG-SG': 2, 'SF-SG': 3}\n",
        "nba2018['Pos_map'] = nba2018['Position']\n",
        "nba2018['Pos_map'] = nba2018['Pos_map'].map(position_map)"
      ],
      "execution_count": null,
      "outputs": [
        {
          "output_type": "stream",
          "name": "stderr",
          "text": [
            "/usr/local/lib/python3.7/dist-packages/ipykernel_launcher.py:4: SettingWithCopyWarning: \n",
            "A value is trying to be set on a copy of a slice from a DataFrame.\n",
            "Try using .loc[row_indexer,col_indexer] = value instead\n",
            "\n",
            "See the caveats in the documentation: https://pandas.pydata.org/pandas-docs/stable/user_guide/indexing.html#returning-a-view-versus-a-copy\n",
            "  after removing the cwd from sys.path.\n",
            "/usr/local/lib/python3.7/dist-packages/ipykernel_launcher.py:5: SettingWithCopyWarning: \n",
            "A value is trying to be set on a copy of a slice from a DataFrame.\n",
            "Try using .loc[row_indexer,col_indexer] = value instead\n",
            "\n",
            "See the caveats in the documentation: https://pandas.pydata.org/pandas-docs/stable/user_guide/indexing.html#returning-a-view-versus-a-copy\n",
            "  \"\"\"\n"
          ]
        }
      ]
    },
    {
      "cell_type": "code",
      "metadata": {
        "id": "uKIYwcXJERBj",
        "colab": {
          "base_uri": "https://localhost:8080/"
        },
        "outputId": "5afc9880-e3c8-42cc-a4bd-16a02986299b"
      },
      "source": [
        "nba2019.Position.value_counts()\n",
        "position_map = {'PG': 1, 'SG': 2, 'SF': 3, 'PF' : 4, 'C' : 5, 'PF-SF': 4,\n",
        "                'SF-SG': 3, 'PF-C' : 5, 'SG-PF' : 3, 'C-PF': 5, 'SG-SF' : 3}\n",
        "nba2019['Pos_map'] = nba2019['Position']\n",
        "nba2019['Pos_map'] = nba2019['Pos_map'].map(position_map)"
      ],
      "execution_count": null,
      "outputs": [
        {
          "output_type": "stream",
          "name": "stderr",
          "text": [
            "/usr/local/lib/python3.7/dist-packages/ipykernel_launcher.py:4: SettingWithCopyWarning: \n",
            "A value is trying to be set on a copy of a slice from a DataFrame.\n",
            "Try using .loc[row_indexer,col_indexer] = value instead\n",
            "\n",
            "See the caveats in the documentation: https://pandas.pydata.org/pandas-docs/stable/user_guide/indexing.html#returning-a-view-versus-a-copy\n",
            "  after removing the cwd from sys.path.\n",
            "/usr/local/lib/python3.7/dist-packages/ipykernel_launcher.py:5: SettingWithCopyWarning: \n",
            "A value is trying to be set on a copy of a slice from a DataFrame.\n",
            "Try using .loc[row_indexer,col_indexer] = value instead\n",
            "\n",
            "See the caveats in the documentation: https://pandas.pydata.org/pandas-docs/stable/user_guide/indexing.html#returning-a-view-versus-a-copy\n",
            "  \"\"\"\n"
          ]
        }
      ]
    },
    {
      "cell_type": "code",
      "metadata": {
        "id": "cIFShAs_EXFK",
        "colab": {
          "base_uri": "https://localhost:8080/"
        },
        "outputId": "33641e0b-786f-4b36-94b4-c63da160cf93"
      },
      "source": [
        "nba2020.Position.value_counts()\n",
        "position_map = {'PG': 1, 'SG': 2, 'SF': 3, 'PF' : 4, 'C' : 5, 'PF-SF': 4, 'SF-SG': 3,\n",
        "                'PF-C' : 5, 'C-PF': 5, 'SF-PF': 4,\n",
        "                'SG-PG' : 2, 'PG-SG' : 2, 'SF-C' : 4}\n",
        "nba2020['Pos_map'] = nba2020['Position']\n",
        "nba2020['Pos_map'] = nba2020['Pos_map'].map(position_map)"
      ],
      "execution_count": null,
      "outputs": [
        {
          "output_type": "stream",
          "name": "stderr",
          "text": [
            "/usr/local/lib/python3.7/dist-packages/ipykernel_launcher.py:5: SettingWithCopyWarning: \n",
            "A value is trying to be set on a copy of a slice from a DataFrame.\n",
            "Try using .loc[row_indexer,col_indexer] = value instead\n",
            "\n",
            "See the caveats in the documentation: https://pandas.pydata.org/pandas-docs/stable/user_guide/indexing.html#returning-a-view-versus-a-copy\n",
            "  \"\"\"\n",
            "/usr/local/lib/python3.7/dist-packages/ipykernel_launcher.py:6: SettingWithCopyWarning: \n",
            "A value is trying to be set on a copy of a slice from a DataFrame.\n",
            "Try using .loc[row_indexer,col_indexer] = value instead\n",
            "\n",
            "See the caveats in the documentation: https://pandas.pydata.org/pandas-docs/stable/user_guide/indexing.html#returning-a-view-versus-a-copy\n",
            "  \n"
          ]
        }
      ]
    },
    {
      "cell_type": "code",
      "metadata": {
        "id": "56MdAg5NNhqv"
      },
      "source": [
        "#Combining DataFrames\n",
        "frames = [player_data_2010, nba2018, nba2019, nba2020]\n",
        "player_data_new = pd.concat(frames)"
      ],
      "execution_count": null,
      "outputs": []
    },
    {
      "cell_type": "code",
      "metadata": {
        "id": "DUl0vfoGO1_U",
        "colab": {
          "base_uri": "https://localhost:8080/",
          "height": 1000
        },
        "outputId": "c68b1722-5fcd-4214-f999-760ffc8cc5b0"
      },
      "source": [
        "#Graphing 3 point attempts over time to account for changes\n",
        "avg_3 = player_data_new.groupby(['Year', 'Pos_map'], as_index=False)['3PA'].mean()\n",
        "\n",
        "one = avg_3[avg_3['Pos_map'] == 1]\n",
        "two = avg_3[avg_3['Pos_map'] == 2]\n",
        "three = avg_3[avg_3['Pos_map'] == 3]\n",
        "four = avg_3[avg_3['Pos_map'] == 4]\n",
        "five = avg_3[avg_3['Pos_map'] == 5]\n",
        "\n",
        "fig, axs = plt.subplots(5, 1, figsize=(8,32))\n",
        "axs[0].scatter(one['Year'], one['3PA'])\n",
        "axs[1].scatter(two['Year'], two['3PA'])\n",
        "axs[2].scatter(three['Year'], three['3PA'])\n",
        "axs[3].scatter(four['Year'], four['3PA'])\n",
        "axs[4].scatter(five['Year'], five['3PA'])"
      ],
      "execution_count": null,
      "outputs": [
        {
          "output_type": "execute_result",
          "data": {
            "text/plain": [
              "<matplotlib.collections.PathCollection at 0x7f61c4b29d50>"
            ]
          },
          "metadata": {},
          "execution_count": 31
        },
        {
          "output_type": "display_data",
          "data": {
            "image/png": "[encoded data removed]",
            "text/plain": [
              "<Figure size 576x2304 with 5 Axes>"
            ]
          },
          "metadata": {
            "needs_background": "light"
          }
        }
      ]
    },
    {
      "cell_type": "markdown",
      "metadata": {
        "id": "UXG6_QEDL3Yk"
      },
      "source": [
        "Since 3 Point shots dramatically skyrocketed ~ 2015, we will only be using data from then to account for the changes in the NBA."
      ]
    },
    {
      "cell_type": "code",
      "metadata": {
        "id": "b5zp_mqGbxsW"
      },
      "source": [
        "#Fill Missing Values\n",
        "player_data_new['FT%'] = player_data_new['FT%'].fillna(0)\n",
        "player_data_new = player_data_new.fillna(0)"
      ],
      "execution_count": null,
      "outputs": []
    },
    {
      "cell_type": "code",
      "metadata": {
        "id": "yXgceCruc1AR"
      },
      "source": [
        "#Data from 2015 and beyond and converting dataframe into numpy array.\n",
        "#Scaling data for K-means\n",
        "player_data_2015 = player_data_new[player_data_new['Year'] >= 2015]\n",
        "player_data_2015 = player_data_2015.drop(['Year', 'Age'], axis = 1)\n",
        "# X_2015df = player_data_2015[['height', 'TRB%', 'BLK%', '3P', '3PA']]\n",
        "X_2015df = player_data_2015.iloc[ : , 1:10]\n",
        "X_2015 = np.array(X_2015df)\n",
        "scaler = StandardScaler()\n",
        "scaled_2015 = scaler.fit_transform(X_2015)"
      ],
      "execution_count": null,
      "outputs": []
    },
    {
      "cell_type": "code",
      "metadata": {
        "id": "pLUry8zDaqy6"
      },
      "source": [
        "#Initialize Model\n",
        "from sklearn.cluster import KMeans\n",
        "\n",
        "# X = player_data_new.iloc[ : , 1:11]\n",
        "# X = np.array(X)\n",
        "km = KMeans(\n",
        "    n_clusters=5, init='random',\n",
        "    n_init=10, max_iter=300, \n",
        "    tol=1e-04, random_state=0\n",
        ")\n",
        "# y_km = km.fit_predict(X)"
      ],
      "execution_count": null,
      "outputs": []
    },
    {
      "cell_type": "code",
      "metadata": {
        "id": "b4AUEey_b8DF"
      },
      "source": [
        "y_km = km.fit_predict(scaled_2015)"
      ],
      "execution_count": null,
      "outputs": []
    },
    {
      "cell_type": "code",
      "metadata": {
        "id": "BCZKakSLiAgT"
      },
      "source": [
        "y_km = -y_km + 5\n",
        "y_km = y_km + 1"
      ],
      "execution_count": null,
      "outputs": []
    },
    {
      "cell_type": "code",
      "metadata": {
        "id": "yM4m7WW0dWYk"
      },
      "source": [
        "player_data_2018 = player_data_new[player_data_new['Year'] >= 2018]\n",
        "player_data_2018 = player_data_2018.drop(['Year', 'Age'], axis = 1)\n",
        "X_2018df = player_data_2018.iloc[ : , 1:10]\n",
        "X_2018 = np.array(X_2018df)\n",
        "scaled_2018 = scaler.fit_transform(X_2018)\n",
        "y_km = km.fit_predict(scaled_2018)"
      ],
      "execution_count": null,
      "outputs": []
    },
    {
      "cell_type": "code",
      "metadata": {
        "id": "hUf94Va3ehE9"
      },
      "source": [
        "y_km = -y_km + 5\n",
        "y_km = y_km + 1"
      ],
      "execution_count": null,
      "outputs": []
    },
    {
      "cell_type": "markdown",
      "metadata": {
        "id": "lARo8tUnmvOQ"
      },
      "source": [
        "GMM"
      ]
    },
    {
      "cell_type": "code",
      "metadata": {
        "id": "brXI4AxVmxji"
      },
      "source": [
        "from sklearn.mixture import GaussianMixture\n",
        "X = X_2015\n",
        "gm = GaussianMixture(n_components=5, random_state=0).fit(X)"
      ],
      "execution_count": null,
      "outputs": []
    },
    {
      "cell_type": "code",
      "metadata": {
        "id": "5Z-7pP6In5LV",
        "colab": {
          "base_uri": "https://localhost:8080/"
        },
        "outputId": "7a24beba-5ca3-4343-d5da-91e091456467"
      },
      "source": [
        "gm_results = gm.predict(X)\n",
        "gm_results"
      ],
      "execution_count": null,
      "outputs": [
        {
          "output_type": "execute_result",
          "data": {
            "text/plain": [
              "array([4, 3, 3, ..., 0, 4, 2])"
            ]
          },
          "metadata": {},
          "execution_count": 40
        }
      ]
    },
    {
      "cell_type": "code",
      "metadata": {
        "id": "d6-njqYyn51C"
      },
      "source": [
        "gm_results = -gm_results + 4\n",
        "gm_results = gm_results + 1"
      ],
      "execution_count": null,
      "outputs": []
    },
    {
      "cell_type": "code",
      "metadata": {
        "id": "AFiXoymBos5r",
        "colab": {
          "base_uri": "https://localhost:8080/"
        },
        "outputId": "9ebf073c-e67b-4492-c855-b72c8e284c3d"
      },
      "source": [
        "gm_results"
      ],
      "execution_count": null,
      "outputs": [
        {
          "output_type": "execute_result",
          "data": {
            "text/plain": [
              "array([1, 2, 2, ..., 5, 1, 3])"
            ]
          },
          "metadata": {},
          "execution_count": 42
        }
      ]
    },
    {
      "cell_type": "markdown",
      "metadata": {
        "id": "GBp1NuxEruBL"
      },
      "source": [
        "Limititations of the Data\n",
        "- The data is based on what position they previously played, and it truly dependent on skill level.\n",
        "- The data is biased toward each position's roles and needs. If a player originally played shooting guard and then swapped to center, the player's position role is to grab more rebounds, so their rebounding percentage would increase.\n",
        "- The data only captures good players, so if a player had better stats, their weightage would be more skewed than the others.\n",
        "- Data is not normal"
      ]
    },
    {
      "cell_type": "markdown",
      "metadata": {
        "id": "jpqjK8YNHp6l"
      },
      "source": [
        "NBA Combine Dataset"
      ]
    },
    {
      "cell_type": "code",
      "metadata": {
        "id": "SYOjRusazmgX"
      },
      "source": [
        "import seaborn as sns"
      ],
      "execution_count": null,
      "outputs": []
    },
    {
      "cell_type": "code",
      "metadata": {
        "id": "zCxplBk-uljw"
      },
      "source": [
        "combine_data = pd.read_csv('/content/drive/MyDrive/COGS 118B Final Project/nba_draft_combine.csv')"
      ],
      "execution_count": null,
      "outputs": []
    },
    {
      "cell_type": "code",
      "metadata": {
        "id": "8tXLRMXRw4R7",
        "colab": {
          "base_uri": "https://localhost:8080/",
          "height": 562
        },
        "outputId": "a8d049f0-32cf-4887-9423-5da194cefafd"
      },
      "source": [
        "combine_data"
      ],
      "execution_count": null,
      "outputs": [
        {
          "output_type": "execute_result",
          "data": {
            "text/html": [
              "<div>\n",
              "<style scoped>\n",
              "    .dataframe tbody tr th:only-of-type {\n",
              "        vertical-align: middle;\n",
              "    }\n",
              "\n",
              "    .dataframe tbody tr th {\n",
              "        vertical-align: top;\n",
              "    }\n",
              "\n",
              "    .dataframe thead th {\n",
              "        text-align: right;\n",
              "    }\n",
              "</style>\n",
              "<table border=\"1\" class=\"dataframe\">\n",
              "  <thead>\n",
              "    <tr style=\"text-align: right;\">\n",
              "      <th></th>\n",
              "      <th>Unnamed: 0</th>\n",
              "      <th>Player</th>\n",
              "      <th>Year</th>\n",
              "      <th>Draft pick</th>\n",
              "      <th>Height (No Shoes)</th>\n",
              "      <th>Height (With Shoes)</th>\n",
              "      <th>Wingspan</th>\n",
              "      <th>Standing reach</th>\n",
              "      <th>Vertical (Max)</th>\n",
              "      <th>Vertical (Max Reach)</th>\n",
              "      <th>Vertical (No Step)</th>\n",
              "      <th>Vertical (No Step Reach)</th>\n",
              "      <th>Weight</th>\n",
              "      <th>Body Fat</th>\n",
              "      <th>Hand (Length)</th>\n",
              "      <th>Hand (Width)</th>\n",
              "      <th>Bench</th>\n",
              "      <th>Agility</th>\n",
              "      <th>Sprint</th>\n",
              "    </tr>\n",
              "  </thead>\n",
              "  <tbody>\n",
              "    <tr>\n",
              "      <th>0</th>\n",
              "      <td>0</td>\n",
              "      <td>Blake Griffin</td>\n",
              "      <td>2009</td>\n",
              "      <td>1.0</td>\n",
              "      <td>80.50</td>\n",
              "      <td>82.00</td>\n",
              "      <td>83.25</td>\n",
              "      <td>105.0</td>\n",
              "      <td>35.5</td>\n",
              "      <td>140.5</td>\n",
              "      <td>32.0</td>\n",
              "      <td>137.0</td>\n",
              "      <td>248.0</td>\n",
              "      <td>8.2</td>\n",
              "      <td>NaN</td>\n",
              "      <td>NaN</td>\n",
              "      <td>22.0</td>\n",
              "      <td>10.95</td>\n",
              "      <td>3.28</td>\n",
              "    </tr>\n",
              "    <tr>\n",
              "      <th>1</th>\n",
              "      <td>1</td>\n",
              "      <td>Terrence Williams</td>\n",
              "      <td>2009</td>\n",
              "      <td>11.0</td>\n",
              "      <td>77.00</td>\n",
              "      <td>78.25</td>\n",
              "      <td>81.00</td>\n",
              "      <td>103.5</td>\n",
              "      <td>37.0</td>\n",
              "      <td>140.5</td>\n",
              "      <td>30.5</td>\n",
              "      <td>134.0</td>\n",
              "      <td>213.0</td>\n",
              "      <td>5.1</td>\n",
              "      <td>NaN</td>\n",
              "      <td>NaN</td>\n",
              "      <td>9.0</td>\n",
              "      <td>11.15</td>\n",
              "      <td>3.18</td>\n",
              "    </tr>\n",
              "    <tr>\n",
              "      <th>2</th>\n",
              "      <td>2</td>\n",
              "      <td>Gerald Henderson</td>\n",
              "      <td>2009</td>\n",
              "      <td>12.0</td>\n",
              "      <td>76.00</td>\n",
              "      <td>77.00</td>\n",
              "      <td>82.25</td>\n",
              "      <td>102.5</td>\n",
              "      <td>35.0</td>\n",
              "      <td>137.5</td>\n",
              "      <td>31.5</td>\n",
              "      <td>134.0</td>\n",
              "      <td>215.0</td>\n",
              "      <td>4.4</td>\n",
              "      <td>NaN</td>\n",
              "      <td>NaN</td>\n",
              "      <td>8.0</td>\n",
              "      <td>11.17</td>\n",
              "      <td>3.14</td>\n",
              "    </tr>\n",
              "    <tr>\n",
              "      <th>3</th>\n",
              "      <td>3</td>\n",
              "      <td>Tyler Hansbrough</td>\n",
              "      <td>2009</td>\n",
              "      <td>13.0</td>\n",
              "      <td>80.25</td>\n",
              "      <td>81.50</td>\n",
              "      <td>83.50</td>\n",
              "      <td>106.0</td>\n",
              "      <td>34.0</td>\n",
              "      <td>140.0</td>\n",
              "      <td>27.5</td>\n",
              "      <td>133.5</td>\n",
              "      <td>234.0</td>\n",
              "      <td>8.5</td>\n",
              "      <td>NaN</td>\n",
              "      <td>NaN</td>\n",
              "      <td>18.0</td>\n",
              "      <td>11.12</td>\n",
              "      <td>3.27</td>\n",
              "    </tr>\n",
              "    <tr>\n",
              "      <th>4</th>\n",
              "      <td>4</td>\n",
              "      <td>Earl Clark</td>\n",
              "      <td>2009</td>\n",
              "      <td>14.0</td>\n",
              "      <td>80.50</td>\n",
              "      <td>82.25</td>\n",
              "      <td>86.50</td>\n",
              "      <td>109.5</td>\n",
              "      <td>33.0</td>\n",
              "      <td>142.5</td>\n",
              "      <td>28.5</td>\n",
              "      <td>138.0</td>\n",
              "      <td>228.0</td>\n",
              "      <td>5.2</td>\n",
              "      <td>NaN</td>\n",
              "      <td>NaN</td>\n",
              "      <td>5.0</td>\n",
              "      <td>11.17</td>\n",
              "      <td>3.35</td>\n",
              "    </tr>\n",
              "    <tr>\n",
              "      <th>...</th>\n",
              "      <td>...</td>\n",
              "      <td>...</td>\n",
              "      <td>...</td>\n",
              "      <td>...</td>\n",
              "      <td>...</td>\n",
              "      <td>...</td>\n",
              "      <td>...</td>\n",
              "      <td>...</td>\n",
              "      <td>...</td>\n",
              "      <td>...</td>\n",
              "      <td>...</td>\n",
              "      <td>...</td>\n",
              "      <td>...</td>\n",
              "      <td>...</td>\n",
              "      <td>...</td>\n",
              "      <td>...</td>\n",
              "      <td>...</td>\n",
              "      <td>...</td>\n",
              "      <td>...</td>\n",
              "    </tr>\n",
              "    <tr>\n",
              "      <th>512</th>\n",
              "      <td>512</td>\n",
              "      <td>Peter Jok</td>\n",
              "      <td>2017</td>\n",
              "      <td>NaN</td>\n",
              "      <td>76.25</td>\n",
              "      <td>77.75</td>\n",
              "      <td>80.00</td>\n",
              "      <td>102.0</td>\n",
              "      <td>31.0</td>\n",
              "      <td>133.0</td>\n",
              "      <td>26.5</td>\n",
              "      <td>128.5</td>\n",
              "      <td>202.0</td>\n",
              "      <td>11.0</td>\n",
              "      <td>8.25</td>\n",
              "      <td>9.50</td>\n",
              "      <td>NaN</td>\n",
              "      <td>11.34</td>\n",
              "      <td>3.41</td>\n",
              "    </tr>\n",
              "    <tr>\n",
              "      <th>513</th>\n",
              "      <td>513</td>\n",
              "      <td>Rawle Alkins</td>\n",
              "      <td>2017</td>\n",
              "      <td>NaN</td>\n",
              "      <td>74.50</td>\n",
              "      <td>75.75</td>\n",
              "      <td>80.75</td>\n",
              "      <td>99.0</td>\n",
              "      <td>40.5</td>\n",
              "      <td>139.5</td>\n",
              "      <td>31.5</td>\n",
              "      <td>130.5</td>\n",
              "      <td>223.0</td>\n",
              "      <td>11.0</td>\n",
              "      <td>8.75</td>\n",
              "      <td>10.00</td>\n",
              "      <td>NaN</td>\n",
              "      <td>11.99</td>\n",
              "      <td>3.30</td>\n",
              "    </tr>\n",
              "    <tr>\n",
              "      <th>514</th>\n",
              "      <td>514</td>\n",
              "      <td>Sviatoslav Mykhailiuk</td>\n",
              "      <td>2017</td>\n",
              "      <td>NaN</td>\n",
              "      <td>78.50</td>\n",
              "      <td>79.50</td>\n",
              "      <td>77.00</td>\n",
              "      <td>100.0</td>\n",
              "      <td>33.0</td>\n",
              "      <td>133.0</td>\n",
              "      <td>27.0</td>\n",
              "      <td>127.0</td>\n",
              "      <td>220.0</td>\n",
              "      <td>11.4</td>\n",
              "      <td>8.00</td>\n",
              "      <td>9.25</td>\n",
              "      <td>NaN</td>\n",
              "      <td>12.40</td>\n",
              "      <td>3.53</td>\n",
              "    </tr>\n",
              "    <tr>\n",
              "      <th>515</th>\n",
              "      <td>515</td>\n",
              "      <td>Thomas Welsh</td>\n",
              "      <td>2017</td>\n",
              "      <td>NaN</td>\n",
              "      <td>83.50</td>\n",
              "      <td>84.50</td>\n",
              "      <td>84.00</td>\n",
              "      <td>109.5</td>\n",
              "      <td>NaN</td>\n",
              "      <td>NaN</td>\n",
              "      <td>NaN</td>\n",
              "      <td>NaN</td>\n",
              "      <td>254.0</td>\n",
              "      <td>10.9</td>\n",
              "      <td>9.00</td>\n",
              "      <td>10.50</td>\n",
              "      <td>NaN</td>\n",
              "      <td>NaN</td>\n",
              "      <td>NaN</td>\n",
              "    </tr>\n",
              "    <tr>\n",
              "      <th>516</th>\n",
              "      <td>516</td>\n",
              "      <td>V.J. Beachem</td>\n",
              "      <td>2017</td>\n",
              "      <td>NaN</td>\n",
              "      <td>78.25</td>\n",
              "      <td>80.00</td>\n",
              "      <td>82.25</td>\n",
              "      <td>104.5</td>\n",
              "      <td>37.0</td>\n",
              "      <td>141.5</td>\n",
              "      <td>30.0</td>\n",
              "      <td>134.5</td>\n",
              "      <td>193.0</td>\n",
              "      <td>6.8</td>\n",
              "      <td>8.50</td>\n",
              "      <td>9.00</td>\n",
              "      <td>NaN</td>\n",
              "      <td>11.18</td>\n",
              "      <td>3.26</td>\n",
              "    </tr>\n",
              "  </tbody>\n",
              "</table>\n",
              "<p>517 rows × 19 columns</p>\n",
              "</div>"
            ],
            "text/plain": [
              "     Unnamed: 0                 Player  Year  ...  Bench  Agility  Sprint\n",
              "0             0          Blake Griffin  2009  ...   22.0    10.95    3.28\n",
              "1             1      Terrence Williams  2009  ...    9.0    11.15    3.18\n",
              "2             2       Gerald Henderson  2009  ...    8.0    11.17    3.14\n",
              "3             3       Tyler Hansbrough  2009  ...   18.0    11.12    3.27\n",
              "4             4             Earl Clark  2009  ...    5.0    11.17    3.35\n",
              "..          ...                    ...   ...  ...    ...      ...     ...\n",
              "512         512              Peter Jok  2017  ...    NaN    11.34    3.41\n",
              "513         513           Rawle Alkins  2017  ...    NaN    11.99    3.30\n",
              "514         514  Sviatoslav Mykhailiuk  2017  ...    NaN    12.40    3.53\n",
              "515         515           Thomas Welsh  2017  ...    NaN      NaN     NaN\n",
              "516         516           V.J. Beachem  2017  ...    NaN    11.18    3.26\n",
              "\n",
              "[517 rows x 19 columns]"
            ]
          },
          "metadata": {},
          "execution_count": 45
        }
      ]
    },
    {
      "cell_type": "code",
      "metadata": {
        "id": "eEUS8orKw5If",
        "colab": {
          "base_uri": "https://localhost:8080/",
          "height": 458
        },
        "outputId": "9afaaed7-3a0b-42d1-b9b9-a2ac79621daa"
      },
      "source": [
        "#Drop missing columns and correlated/redundant columns\n",
        "combine_data = combine_data.dropna(thresh = combine_data.shape[0]*0.35, how = 'all', axis = 1)\n",
        "combine_data = combine_data.drop(['Unnamed: 0', 'Draft pick', 'Height (No Shoes)', 'Hand (Length)', 'Hand (Width)'], axis = 1)\n",
        "combine_data"
      ],
      "execution_count": null,
      "outputs": [
        {
          "output_type": "execute_result",
          "data": {
            "text/html": [
              "<div>\n",
              "<style scoped>\n",
              "    .dataframe tbody tr th:only-of-type {\n",
              "        vertical-align: middle;\n",
              "    }\n",
              "\n",
              "    .dataframe tbody tr th {\n",
              "        vertical-align: top;\n",
              "    }\n",
              "\n",
              "    .dataframe thead th {\n",
              "        text-align: right;\n",
              "    }\n",
              "</style>\n",
              "<table border=\"1\" class=\"dataframe\">\n",
              "  <thead>\n",
              "    <tr style=\"text-align: right;\">\n",
              "      <th></th>\n",
              "      <th>Player</th>\n",
              "      <th>Year</th>\n",
              "      <th>Height (With Shoes)</th>\n",
              "      <th>Wingspan</th>\n",
              "      <th>Standing reach</th>\n",
              "      <th>Vertical (Max)</th>\n",
              "      <th>Vertical (Max Reach)</th>\n",
              "      <th>Vertical (No Step)</th>\n",
              "      <th>Vertical (No Step Reach)</th>\n",
              "      <th>Weight</th>\n",
              "      <th>Body Fat</th>\n",
              "      <th>Bench</th>\n",
              "      <th>Agility</th>\n",
              "      <th>Sprint</th>\n",
              "    </tr>\n",
              "  </thead>\n",
              "  <tbody>\n",
              "    <tr>\n",
              "      <th>0</th>\n",
              "      <td>Blake Griffin</td>\n",
              "      <td>2009</td>\n",
              "      <td>82.00</td>\n",
              "      <td>83.25</td>\n",
              "      <td>105.0</td>\n",
              "      <td>35.5</td>\n",
              "      <td>140.5</td>\n",
              "      <td>32.0</td>\n",
              "      <td>137.0</td>\n",
              "      <td>248.0</td>\n",
              "      <td>8.2</td>\n",
              "      <td>22.0</td>\n",
              "      <td>10.95</td>\n",
              "      <td>3.28</td>\n",
              "    </tr>\n",
              "    <tr>\n",
              "      <th>1</th>\n",
              "      <td>Terrence Williams</td>\n",
              "      <td>2009</td>\n",
              "      <td>78.25</td>\n",
              "      <td>81.00</td>\n",
              "      <td>103.5</td>\n",
              "      <td>37.0</td>\n",
              "      <td>140.5</td>\n",
              "      <td>30.5</td>\n",
              "      <td>134.0</td>\n",
              "      <td>213.0</td>\n",
              "      <td>5.1</td>\n",
              "      <td>9.0</td>\n",
              "      <td>11.15</td>\n",
              "      <td>3.18</td>\n",
              "    </tr>\n",
              "    <tr>\n",
              "      <th>2</th>\n",
              "      <td>Gerald Henderson</td>\n",
              "      <td>2009</td>\n",
              "      <td>77.00</td>\n",
              "      <td>82.25</td>\n",
              "      <td>102.5</td>\n",
              "      <td>35.0</td>\n",
              "      <td>137.5</td>\n",
              "      <td>31.5</td>\n",
              "      <td>134.0</td>\n",
              "      <td>215.0</td>\n",
              "      <td>4.4</td>\n",
              "      <td>8.0</td>\n",
              "      <td>11.17</td>\n",
              "      <td>3.14</td>\n",
              "    </tr>\n",
              "    <tr>\n",
              "      <th>3</th>\n",
              "      <td>Tyler Hansbrough</td>\n",
              "      <td>2009</td>\n",
              "      <td>81.50</td>\n",
              "      <td>83.50</td>\n",
              "      <td>106.0</td>\n",
              "      <td>34.0</td>\n",
              "      <td>140.0</td>\n",
              "      <td>27.5</td>\n",
              "      <td>133.5</td>\n",
              "      <td>234.0</td>\n",
              "      <td>8.5</td>\n",
              "      <td>18.0</td>\n",
              "      <td>11.12</td>\n",
              "      <td>3.27</td>\n",
              "    </tr>\n",
              "    <tr>\n",
              "      <th>4</th>\n",
              "      <td>Earl Clark</td>\n",
              "      <td>2009</td>\n",
              "      <td>82.25</td>\n",
              "      <td>86.50</td>\n",
              "      <td>109.5</td>\n",
              "      <td>33.0</td>\n",
              "      <td>142.5</td>\n",
              "      <td>28.5</td>\n",
              "      <td>138.0</td>\n",
              "      <td>228.0</td>\n",
              "      <td>5.2</td>\n",
              "      <td>5.0</td>\n",
              "      <td>11.17</td>\n",
              "      <td>3.35</td>\n",
              "    </tr>\n",
              "    <tr>\n",
              "      <th>...</th>\n",
              "      <td>...</td>\n",
              "      <td>...</td>\n",
              "      <td>...</td>\n",
              "      <td>...</td>\n",
              "      <td>...</td>\n",
              "      <td>...</td>\n",
              "      <td>...</td>\n",
              "      <td>...</td>\n",
              "      <td>...</td>\n",
              "      <td>...</td>\n",
              "      <td>...</td>\n",
              "      <td>...</td>\n",
              "      <td>...</td>\n",
              "      <td>...</td>\n",
              "    </tr>\n",
              "    <tr>\n",
              "      <th>512</th>\n",
              "      <td>Peter Jok</td>\n",
              "      <td>2017</td>\n",
              "      <td>77.75</td>\n",
              "      <td>80.00</td>\n",
              "      <td>102.0</td>\n",
              "      <td>31.0</td>\n",
              "      <td>133.0</td>\n",
              "      <td>26.5</td>\n",
              "      <td>128.5</td>\n",
              "      <td>202.0</td>\n",
              "      <td>11.0</td>\n",
              "      <td>NaN</td>\n",
              "      <td>11.34</td>\n",
              "      <td>3.41</td>\n",
              "    </tr>\n",
              "    <tr>\n",
              "      <th>513</th>\n",
              "      <td>Rawle Alkins</td>\n",
              "      <td>2017</td>\n",
              "      <td>75.75</td>\n",
              "      <td>80.75</td>\n",
              "      <td>99.0</td>\n",
              "      <td>40.5</td>\n",
              "      <td>139.5</td>\n",
              "      <td>31.5</td>\n",
              "      <td>130.5</td>\n",
              "      <td>223.0</td>\n",
              "      <td>11.0</td>\n",
              "      <td>NaN</td>\n",
              "      <td>11.99</td>\n",
              "      <td>3.30</td>\n",
              "    </tr>\n",
              "    <tr>\n",
              "      <th>514</th>\n",
              "      <td>Sviatoslav Mykhailiuk</td>\n",
              "      <td>2017</td>\n",
              "      <td>79.50</td>\n",
              "      <td>77.00</td>\n",
              "      <td>100.0</td>\n",
              "      <td>33.0</td>\n",
              "      <td>133.0</td>\n",
              "      <td>27.0</td>\n",
              "      <td>127.0</td>\n",
              "      <td>220.0</td>\n",
              "      <td>11.4</td>\n",
              "      <td>NaN</td>\n",
              "      <td>12.40</td>\n",
              "      <td>3.53</td>\n",
              "    </tr>\n",
              "    <tr>\n",
              "      <th>515</th>\n",
              "      <td>Thomas Welsh</td>\n",
              "      <td>2017</td>\n",
              "      <td>84.50</td>\n",
              "      <td>84.00</td>\n",
              "      <td>109.5</td>\n",
              "      <td>NaN</td>\n",
              "      <td>NaN</td>\n",
              "      <td>NaN</td>\n",
              "      <td>NaN</td>\n",
              "      <td>254.0</td>\n",
              "      <td>10.9</td>\n",
              "      <td>NaN</td>\n",
              "      <td>NaN</td>\n",
              "      <td>NaN</td>\n",
              "    </tr>\n",
              "    <tr>\n",
              "      <th>516</th>\n",
              "      <td>V.J. Beachem</td>\n",
              "      <td>2017</td>\n",
              "      <td>80.00</td>\n",
              "      <td>82.25</td>\n",
              "      <td>104.5</td>\n",
              "      <td>37.0</td>\n",
              "      <td>141.5</td>\n",
              "      <td>30.0</td>\n",
              "      <td>134.5</td>\n",
              "      <td>193.0</td>\n",
              "      <td>6.8</td>\n",
              "      <td>NaN</td>\n",
              "      <td>11.18</td>\n",
              "      <td>3.26</td>\n",
              "    </tr>\n",
              "  </tbody>\n",
              "</table>\n",
              "<p>517 rows × 14 columns</p>\n",
              "</div>"
            ],
            "text/plain": [
              "                    Player  Year  Height (With Shoes)  ...  Bench  Agility  Sprint\n",
              "0            Blake Griffin  2009                82.00  ...   22.0    10.95    3.28\n",
              "1        Terrence Williams  2009                78.25  ...    9.0    11.15    3.18\n",
              "2         Gerald Henderson  2009                77.00  ...    8.0    11.17    3.14\n",
              "3         Tyler Hansbrough  2009                81.50  ...   18.0    11.12    3.27\n",
              "4               Earl Clark  2009                82.25  ...    5.0    11.17    3.35\n",
              "..                     ...   ...                  ...  ...    ...      ...     ...\n",
              "512              Peter Jok  2017                77.75  ...    NaN    11.34    3.41\n",
              "513           Rawle Alkins  2017                75.75  ...    NaN    11.99    3.30\n",
              "514  Sviatoslav Mykhailiuk  2017                79.50  ...    NaN    12.40    3.53\n",
              "515           Thomas Welsh  2017                84.50  ...    NaN      NaN     NaN\n",
              "516           V.J. Beachem  2017                80.00  ...    NaN    11.18    3.26\n",
              "\n",
              "[517 rows x 14 columns]"
            ]
          },
          "metadata": {},
          "execution_count": 46
        }
      ]
    },
    {
      "cell_type": "code",
      "metadata": {
        "id": "AOLwZGAvyOtS",
        "colab": {
          "base_uri": "https://localhost:8080/",
          "height": 410
        },
        "outputId": "966ce0fe-fa9a-4fd1-9ec6-258c87cce80c"
      },
      "source": [
        "#Heatmap\n",
        "corr = combine_data.corr()\n",
        "heatmap = sns.heatmap(corr)\n",
        "heatmap.set(Title='NBA Draft Combine Measurements Correlation Heatmap')"
      ],
      "execution_count": null,
      "outputs": [
        {
          "output_type": "execute_result",
          "data": {
            "text/plain": [
              "[Text(0.5, 1.0, 'NBA Draft Combine Measurements Correlation Heatmap')]"
            ]
          },
          "metadata": {},
          "execution_count": 47
        },
        {
          "output_type": "display_data",
          "data": {
            "image/png": "[encoded data removed]",
            "text/plain": [
              "<Figure size 432x288 with 2 Axes>"
            ]
          },
          "metadata": {
            "needs_background": "light"
          }
        }
      ]
    },
    {
      "cell_type": "code",
      "metadata": {
        "id": "JJzyXEkHzxAu",
        "colab": {
          "base_uri": "https://localhost:8080/",
          "height": 318
        },
        "outputId": "2af79518-b730-4c44-a142-38558034f6be"
      },
      "source": [
        "combine_data.describe()"
      ],
      "execution_count": null,
      "outputs": [
        {
          "output_type": "execute_result",
          "data": {
            "text/html": [
              "<div>\n",
              "<style scoped>\n",
              "    .dataframe tbody tr th:only-of-type {\n",
              "        vertical-align: middle;\n",
              "    }\n",
              "\n",
              "    .dataframe tbody tr th {\n",
              "        vertical-align: top;\n",
              "    }\n",
              "\n",
              "    .dataframe thead th {\n",
              "        text-align: right;\n",
              "    }\n",
              "</style>\n",
              "<table border=\"1\" class=\"dataframe\">\n",
              "  <thead>\n",
              "    <tr style=\"text-align: right;\">\n",
              "      <th></th>\n",
              "      <th>Year</th>\n",
              "      <th>Height (With Shoes)</th>\n",
              "      <th>Wingspan</th>\n",
              "      <th>Standing reach</th>\n",
              "      <th>Vertical (Max)</th>\n",
              "      <th>Vertical (Max Reach)</th>\n",
              "      <th>Vertical (No Step)</th>\n",
              "      <th>Vertical (No Step Reach)</th>\n",
              "      <th>Weight</th>\n",
              "      <th>Body Fat</th>\n",
              "      <th>Bench</th>\n",
              "      <th>Agility</th>\n",
              "      <th>Sprint</th>\n",
              "    </tr>\n",
              "  </thead>\n",
              "  <tbody>\n",
              "    <tr>\n",
              "      <th>count</th>\n",
              "      <td>517.000000</td>\n",
              "      <td>516.000000</td>\n",
              "      <td>517.000000</td>\n",
              "      <td>517.000000</td>\n",
              "      <td>450.000000</td>\n",
              "      <td>450.000000</td>\n",
              "      <td>450.000000</td>\n",
              "      <td>450.000000</td>\n",
              "      <td>516.000000</td>\n",
              "      <td>514.000000</td>\n",
              "      <td>284.000000</td>\n",
              "      <td>444.000000</td>\n",
              "      <td>446.000000</td>\n",
              "    </tr>\n",
              "    <tr>\n",
              "      <th>mean</th>\n",
              "      <td>2013.187621</td>\n",
              "      <td>78.898740</td>\n",
              "      <td>82.497292</td>\n",
              "      <td>103.275629</td>\n",
              "      <td>35.136667</td>\n",
              "      <td>138.166667</td>\n",
              "      <td>29.584444</td>\n",
              "      <td>132.621111</td>\n",
              "      <td>214.833333</td>\n",
              "      <td>7.211673</td>\n",
              "      <td>10.239437</td>\n",
              "      <td>11.330248</td>\n",
              "      <td>3.299664</td>\n",
              "    </tr>\n",
              "    <tr>\n",
              "      <th>std</th>\n",
              "      <td>2.531507</td>\n",
              "      <td>3.275837</td>\n",
              "      <td>3.943068</td>\n",
              "      <td>4.897515</td>\n",
              "      <td>3.561688</td>\n",
              "      <td>4.272686</td>\n",
              "      <td>3.052361</td>\n",
              "      <td>4.644194</td>\n",
              "      <td>24.683537</td>\n",
              "      <td>2.480823</td>\n",
              "      <td>4.938390</td>\n",
              "      <td>0.563144</td>\n",
              "      <td>0.128422</td>\n",
              "    </tr>\n",
              "    <tr>\n",
              "      <th>min</th>\n",
              "      <td>2009.000000</td>\n",
              "      <td>69.500000</td>\n",
              "      <td>70.000000</td>\n",
              "      <td>88.500000</td>\n",
              "      <td>25.000000</td>\n",
              "      <td>125.500000</td>\n",
              "      <td>22.500000</td>\n",
              "      <td>119.000000</td>\n",
              "      <td>149.000000</td>\n",
              "      <td>3.200000</td>\n",
              "      <td>1.000000</td>\n",
              "      <td>10.070000</td>\n",
              "      <td>3.010000</td>\n",
              "    </tr>\n",
              "    <tr>\n",
              "      <th>25%</th>\n",
              "      <td>2011.000000</td>\n",
              "      <td>76.750000</td>\n",
              "      <td>79.750000</td>\n",
              "      <td>100.000000</td>\n",
              "      <td>32.500000</td>\n",
              "      <td>135.500000</td>\n",
              "      <td>27.500000</td>\n",
              "      <td>129.500000</td>\n",
              "      <td>196.000000</td>\n",
              "      <td>5.400000</td>\n",
              "      <td>6.750000</td>\n",
              "      <td>10.940000</td>\n",
              "      <td>3.200000</td>\n",
              "    </tr>\n",
              "    <tr>\n",
              "      <th>50%</th>\n",
              "      <td>2013.000000</td>\n",
              "      <td>79.000000</td>\n",
              "      <td>82.500000</td>\n",
              "      <td>103.500000</td>\n",
              "      <td>35.000000</td>\n",
              "      <td>138.500000</td>\n",
              "      <td>29.500000</td>\n",
              "      <td>133.000000</td>\n",
              "      <td>213.500000</td>\n",
              "      <td>6.600000</td>\n",
              "      <td>10.000000</td>\n",
              "      <td>11.255000</td>\n",
              "      <td>3.280000</td>\n",
              "    </tr>\n",
              "    <tr>\n",
              "      <th>75%</th>\n",
              "      <td>2015.000000</td>\n",
              "      <td>81.250000</td>\n",
              "      <td>85.500000</td>\n",
              "      <td>107.000000</td>\n",
              "      <td>37.500000</td>\n",
              "      <td>141.500000</td>\n",
              "      <td>31.500000</td>\n",
              "      <td>136.000000</td>\n",
              "      <td>232.000000</td>\n",
              "      <td>8.400000</td>\n",
              "      <td>14.000000</td>\n",
              "      <td>11.660000</td>\n",
              "      <td>3.380000</td>\n",
              "    </tr>\n",
              "    <tr>\n",
              "      <th>max</th>\n",
              "      <td>2017.000000</td>\n",
              "      <td>86.500000</td>\n",
              "      <td>92.500000</td>\n",
              "      <td>115.000000</td>\n",
              "      <td>44.500000</td>\n",
              "      <td>147.500000</td>\n",
              "      <td>38.000000</td>\n",
              "      <td>144.000000</td>\n",
              "      <td>303.000000</td>\n",
              "      <td>20.800000</td>\n",
              "      <td>23.000000</td>\n",
              "      <td>13.440000</td>\n",
              "      <td>3.810000</td>\n",
              "    </tr>\n",
              "  </tbody>\n",
              "</table>\n",
              "</div>"
            ],
            "text/plain": [
              "              Year  Height (With Shoes)  ...     Agility      Sprint\n",
              "count   517.000000           516.000000  ...  444.000000  446.000000\n",
              "mean   2013.187621            78.898740  ...   11.330248    3.299664\n",
              "std       2.531507             3.275837  ...    0.563144    0.128422\n",
              "min    2009.000000            69.500000  ...   10.070000    3.010000\n",
              "25%    2011.000000            76.750000  ...   10.940000    3.200000\n",
              "50%    2013.000000            79.000000  ...   11.255000    3.280000\n",
              "75%    2015.000000            81.250000  ...   11.660000    3.380000\n",
              "max    2017.000000            86.500000  ...   13.440000    3.810000\n",
              "\n",
              "[8 rows x 13 columns]"
            ]
          },
          "metadata": {},
          "execution_count": 48
        }
      ]
    },
    {
      "cell_type": "code",
      "metadata": {
        "id": "P_DrHZ-90S7b",
        "colab": {
          "base_uri": "https://localhost:8080/",
          "height": 423
        },
        "outputId": "8ebcb167-9fb1-4924-ff92-302eb28b4146"
      },
      "source": [
        "#Final Preprocessing Steps\n",
        "new_combine_data = combine_data[['Height (With Shoes)', 'Wingspan', 'Standing reach', 'Vertical (Max)', 'Vertical (No Step)', 'Weight', 'Body Fat', 'Agility', 'Sprint']]\n",
        "new_combine_data = new_combine_data.dropna(axis = 0)\n",
        "new_combine_data"
      ],
      "execution_count": null,
      "outputs": [
        {
          "output_type": "execute_result",
          "data": {
            "text/html": [
              "<div>\n",
              "<style scoped>\n",
              "    .dataframe tbody tr th:only-of-type {\n",
              "        vertical-align: middle;\n",
              "    }\n",
              "\n",
              "    .dataframe tbody tr th {\n",
              "        vertical-align: top;\n",
              "    }\n",
              "\n",
              "    .dataframe thead th {\n",
              "        text-align: right;\n",
              "    }\n",
              "</style>\n",
              "<table border=\"1\" class=\"dataframe\">\n",
              "  <thead>\n",
              "    <tr style=\"text-align: right;\">\n",
              "      <th></th>\n",
              "      <th>Height (With Shoes)</th>\n",
              "      <th>Wingspan</th>\n",
              "      <th>Standing reach</th>\n",
              "      <th>Vertical (Max)</th>\n",
              "      <th>Vertical (No Step)</th>\n",
              "      <th>Weight</th>\n",
              "      <th>Body Fat</th>\n",
              "      <th>Agility</th>\n",
              "      <th>Sprint</th>\n",
              "    </tr>\n",
              "  </thead>\n",
              "  <tbody>\n",
              "    <tr>\n",
              "      <th>0</th>\n",
              "      <td>82.00</td>\n",
              "      <td>83.25</td>\n",
              "      <td>105.0</td>\n",
              "      <td>35.5</td>\n",
              "      <td>32.0</td>\n",
              "      <td>248.0</td>\n",
              "      <td>8.2</td>\n",
              "      <td>10.95</td>\n",
              "      <td>3.28</td>\n",
              "    </tr>\n",
              "    <tr>\n",
              "      <th>1</th>\n",
              "      <td>78.25</td>\n",
              "      <td>81.00</td>\n",
              "      <td>103.5</td>\n",
              "      <td>37.0</td>\n",
              "      <td>30.5</td>\n",
              "      <td>213.0</td>\n",
              "      <td>5.1</td>\n",
              "      <td>11.15</td>\n",
              "      <td>3.18</td>\n",
              "    </tr>\n",
              "    <tr>\n",
              "      <th>2</th>\n",
              "      <td>77.00</td>\n",
              "      <td>82.25</td>\n",
              "      <td>102.5</td>\n",
              "      <td>35.0</td>\n",
              "      <td>31.5</td>\n",
              "      <td>215.0</td>\n",
              "      <td>4.4</td>\n",
              "      <td>11.17</td>\n",
              "      <td>3.14</td>\n",
              "    </tr>\n",
              "    <tr>\n",
              "      <th>3</th>\n",
              "      <td>81.50</td>\n",
              "      <td>83.50</td>\n",
              "      <td>106.0</td>\n",
              "      <td>34.0</td>\n",
              "      <td>27.5</td>\n",
              "      <td>234.0</td>\n",
              "      <td>8.5</td>\n",
              "      <td>11.12</td>\n",
              "      <td>3.27</td>\n",
              "    </tr>\n",
              "    <tr>\n",
              "      <th>4</th>\n",
              "      <td>82.25</td>\n",
              "      <td>86.50</td>\n",
              "      <td>109.5</td>\n",
              "      <td>33.0</td>\n",
              "      <td>28.5</td>\n",
              "      <td>228.0</td>\n",
              "      <td>5.2</td>\n",
              "      <td>11.17</td>\n",
              "      <td>3.35</td>\n",
              "    </tr>\n",
              "    <tr>\n",
              "      <th>...</th>\n",
              "      <td>...</td>\n",
              "      <td>...</td>\n",
              "      <td>...</td>\n",
              "      <td>...</td>\n",
              "      <td>...</td>\n",
              "      <td>...</td>\n",
              "      <td>...</td>\n",
              "      <td>...</td>\n",
              "      <td>...</td>\n",
              "    </tr>\n",
              "    <tr>\n",
              "      <th>511</th>\n",
              "      <td>78.75</td>\n",
              "      <td>83.00</td>\n",
              "      <td>101.0</td>\n",
              "      <td>39.0</td>\n",
              "      <td>34.0</td>\n",
              "      <td>201.0</td>\n",
              "      <td>6.1</td>\n",
              "      <td>10.84</td>\n",
              "      <td>3.15</td>\n",
              "    </tr>\n",
              "    <tr>\n",
              "      <th>512</th>\n",
              "      <td>77.75</td>\n",
              "      <td>80.00</td>\n",
              "      <td>102.0</td>\n",
              "      <td>31.0</td>\n",
              "      <td>26.5</td>\n",
              "      <td>202.0</td>\n",
              "      <td>11.0</td>\n",
              "      <td>11.34</td>\n",
              "      <td>3.41</td>\n",
              "    </tr>\n",
              "    <tr>\n",
              "      <th>513</th>\n",
              "      <td>75.75</td>\n",
              "      <td>80.75</td>\n",
              "      <td>99.0</td>\n",
              "      <td>40.5</td>\n",
              "      <td>31.5</td>\n",
              "      <td>223.0</td>\n",
              "      <td>11.0</td>\n",
              "      <td>11.99</td>\n",
              "      <td>3.30</td>\n",
              "    </tr>\n",
              "    <tr>\n",
              "      <th>514</th>\n",
              "      <td>79.50</td>\n",
              "      <td>77.00</td>\n",
              "      <td>100.0</td>\n",
              "      <td>33.0</td>\n",
              "      <td>27.0</td>\n",
              "      <td>220.0</td>\n",
              "      <td>11.4</td>\n",
              "      <td>12.40</td>\n",
              "      <td>3.53</td>\n",
              "    </tr>\n",
              "    <tr>\n",
              "      <th>516</th>\n",
              "      <td>80.00</td>\n",
              "      <td>82.25</td>\n",
              "      <td>104.5</td>\n",
              "      <td>37.0</td>\n",
              "      <td>30.0</td>\n",
              "      <td>193.0</td>\n",
              "      <td>6.8</td>\n",
              "      <td>11.18</td>\n",
              "      <td>3.26</td>\n",
              "    </tr>\n",
              "  </tbody>\n",
              "</table>\n",
              "<p>438 rows × 9 columns</p>\n",
              "</div>"
            ],
            "text/plain": [
              "     Height (With Shoes)  Wingspan  Standing reach  ...  Body Fat  Agility  Sprint\n",
              "0                  82.00     83.25           105.0  ...       8.2    10.95    3.28\n",
              "1                  78.25     81.00           103.5  ...       5.1    11.15    3.18\n",
              "2                  77.00     82.25           102.5  ...       4.4    11.17    3.14\n",
              "3                  81.50     83.50           106.0  ...       8.5    11.12    3.27\n",
              "4                  82.25     86.50           109.5  ...       5.2    11.17    3.35\n",
              "..                   ...       ...             ...  ...       ...      ...     ...\n",
              "511                78.75     83.00           101.0  ...       6.1    10.84    3.15\n",
              "512                77.75     80.00           102.0  ...      11.0    11.34    3.41\n",
              "513                75.75     80.75            99.0  ...      11.0    11.99    3.30\n",
              "514                79.50     77.00           100.0  ...      11.4    12.40    3.53\n",
              "516                80.00     82.25           104.5  ...       6.8    11.18    3.26\n",
              "\n",
              "[438 rows x 9 columns]"
            ]
          },
          "metadata": {},
          "execution_count": 49
        }
      ]
    },
    {
      "cell_type": "code",
      "metadata": {
        "id": "dT8-EhZI0H9l",
        "colab": {
          "base_uri": "https://localhost:8080/",
          "height": 1000
        },
        "outputId": "9f6b54e0-7fce-4806-a67b-c200f4701503"
      },
      "source": [
        "#Plotting Distribtutions for all Features\n",
        "fig, ax = plt.subplots(3,3, figsize=(15,15))\n",
        "for index, col in enumerate(new_combine_data.columns):\n",
        "    sns.distplot(new_combine_data[col], ax = ax[index//3][index%3])\n",
        "    ax[index//3][index%3].set_ylabel('Number')"
      ],
      "execution_count": null,
      "outputs": [
        {
          "output_type": "stream",
          "name": "stderr",
          "text": [
            "/usr/local/lib/python3.7/dist-packages/seaborn/distributions.py:2619: FutureWarning: `distplot` is a deprecated function and will be removed in a future version. Please adapt your code to use either `displot` (a figure-level function with similar flexibility) or `histplot` (an axes-level function for histograms).\n",
            "  warnings.warn(msg, FutureWarning)\n",
            "/usr/local/lib/python3.7/dist-packages/seaborn/distributions.py:2619: FutureWarning: `distplot` is a deprecated function and will be removed in a future version. Please adapt your code to use either `displot` (a figure-level function with similar flexibility) or `histplot` (an axes-level function for histograms).\n",
            "  warnings.warn(msg, FutureWarning)\n",
            "/usr/local/lib/python3.7/dist-packages/seaborn/distributions.py:2619: FutureWarning: `distplot` is a deprecated function and will be removed in a future version. Please adapt your code to use either `displot` (a figure-level function with similar flexibility) or `histplot` (an axes-level function for histograms).\n",
            "  warnings.warn(msg, FutureWarning)\n",
            "/usr/local/lib/python3.7/dist-packages/seaborn/distributions.py:2619: FutureWarning: `distplot` is a deprecated function and will be removed in a future version. Please adapt your code to use either `displot` (a figure-level function with similar flexibility) or `histplot` (an axes-level function for histograms).\n",
            "  warnings.warn(msg, FutureWarning)\n",
            "/usr/local/lib/python3.7/dist-packages/seaborn/distributions.py:2619: FutureWarning: `distplot` is a deprecated function and will be removed in a future version. Please adapt your code to use either `displot` (a figure-level function with similar flexibility) or `histplot` (an axes-level function for histograms).\n",
            "  warnings.warn(msg, FutureWarning)\n",
            "/usr/local/lib/python3.7/dist-packages/seaborn/distributions.py:2619: FutureWarning: `distplot` is a deprecated function and will be removed in a future version. Please adapt your code to use either `displot` (a figure-level function with similar flexibility) or `histplot` (an axes-level function for histograms).\n",
            "  warnings.warn(msg, FutureWarning)\n",
            "/usr/local/lib/python3.7/dist-packages/seaborn/distributions.py:2619: FutureWarning: `distplot` is a deprecated function and will be removed in a future version. Please adapt your code to use either `displot` (a figure-level function with similar flexibility) or `histplot` (an axes-level function for histograms).\n",
            "  warnings.warn(msg, FutureWarning)\n",
            "/usr/local/lib/python3.7/dist-packages/seaborn/distributions.py:2619: FutureWarning: `distplot` is a deprecated function and will be removed in a future version. Please adapt your code to use either `displot` (a figure-level function with similar flexibility) or `histplot` (an axes-level function for histograms).\n",
            "  warnings.warn(msg, FutureWarning)\n",
            "/usr/local/lib/python3.7/dist-packages/seaborn/distributions.py:2619: FutureWarning: `distplot` is a deprecated function and will be removed in a future version. Please adapt your code to use either `displot` (a figure-level function with similar flexibility) or `histplot` (an axes-level function for histograms).\n",
            "  warnings.warn(msg, FutureWarning)\n"
          ]
        },
        {
          "output_type": "display_data",
          "data": {
            "image/png": "[encoded data removed]",
            "text/plain": [
              "<Figure size 1080x1080 with 9 Axes>"
            ]
          },
          "metadata": {
            "needs_background": "light"
          }
        }
      ]
    },
    {
      "cell_type": "code",
      "metadata": {
        "id": "GR8pjZ2z0K2-"
      },
      "source": [
        "combine_data = combine_data.dropna(thresh = combine_data.shape[1]*0.60, how = 'all', axis = 0)"
      ],
      "execution_count": null,
      "outputs": []
    },
    {
      "cell_type": "code",
      "metadata": {
        "id": "iVHtPn_B3HnE"
      },
      "source": [
        "#Scaling Data\n",
        "scaler = StandardScaler()\n",
        "new_combine_data_scaler = scaler.fit_transform(new_combine_data)"
      ],
      "execution_count": null,
      "outputs": []
    },
    {
      "cell_type": "code",
      "metadata": {
        "id": "Noivymox6diK"
      },
      "source": [
        "#KMeans Initialization\n",
        "km = KMeans(\n",
        "    n_clusters=5, init='random',\n",
        "    n_init=10, max_iter=300, \n",
        "    tol=1e-04, random_state=0\n",
        ")"
      ],
      "execution_count": null,
      "outputs": []
    },
    {
      "cell_type": "code",
      "metadata": {
        "id": "R1QbVODu6eI9"
      },
      "source": [
        "pos_predict = km.fit_predict(new_combine_data_scaler)"
      ],
      "execution_count": null,
      "outputs": []
    },
    {
      "cell_type": "code",
      "metadata": {
        "id": "XqcbjtoM0ABo",
        "colab": {
          "base_uri": "https://localhost:8080/"
        },
        "outputId": "ad793fe9-78af-4b6b-881d-22411cbbb479"
      },
      "source": [
        "print(\"km: silhouttte: \", silhouette_score(new_combine_data_scaler, pos_predict))"
      ],
      "execution_count": null,
      "outputs": [
        {
          "output_type": "stream",
          "name": "stdout",
          "text": [
            "km: silhouttte:  0.1847863068835707\n"
          ]
        }
      ]
    },
    {
      "cell_type": "code",
      "metadata": {
        "id": "T9RQNI7GwQx8",
        "colab": {
          "base_uri": "https://localhost:8080/"
        },
        "outputId": "3b150d32-2f4c-4691-8b5c-a03ed31c743f"
      },
      "source": [
        "km.inertia_"
      ],
      "execution_count": null,
      "outputs": [
        {
          "output_type": "execute_result",
          "data": {
            "text/plain": [
              "1693.4725026103506"
            ]
          },
          "metadata": {},
          "execution_count": 56
        }
      ]
    },
    {
      "cell_type": "code",
      "metadata": {
        "id": "xXuq_b1T6t-B"
      },
      "source": [
        "pos_predict = pos_predict + 1"
      ],
      "execution_count": null,
      "outputs": []
    },
    {
      "cell_type": "code",
      "metadata": {
        "id": "6ZYMwb9J7JUu",
        "colab": {
          "base_uri": "https://localhost:8080/"
        },
        "outputId": "397f5579-8ba0-42da-8865-7a76a7c80d87"
      },
      "source": [
        "#Cluster Values for Each Player in the combine\n",
        "pos_predict"
      ],
      "execution_count": null,
      "outputs": [
        {
          "output_type": "execute_result",
          "data": {
            "text/plain": [
              "array([4, 2, 2, 4, 4, 3, 4, 1, 5, 5, 5, 5, 1, 3, 4, 5, 3, 1, 2, 5, 2, 4,\n",
              "       2, 4, 4, 1, 3, 4, 4, 5, 5, 2, 1, 4, 5, 1, 3, 5, 5, 5, 4, 2, 1, 4,\n",
              "       5, 1, 3, 1, 2, 3, 2, 4, 4, 3, 4, 5, 1, 1, 4, 4, 1, 1, 3, 4, 2, 3,\n",
              "       2, 2, 1, 1, 2, 1, 4, 3, 3, 3, 3, 3, 1, 3, 4, 3, 4, 1, 3, 4, 1, 1,\n",
              "       5, 1, 2, 4, 3, 2, 4, 2, 4, 5, 4, 2, 1, 4, 5, 1, 4, 2, 4, 1, 5, 2,\n",
              "       3, 3, 1, 3, 4, 4, 1, 2, 5, 5, 2, 4, 5, 1, 1, 5, 5, 5, 1, 1, 4, 3,\n",
              "       4, 1, 4, 4, 4, 2, 2, 4, 2, 5, 2, 4, 4, 3, 4, 3, 3, 1, 2, 4, 4, 4,\n",
              "       5, 2, 4, 2, 4, 1, 3, 2, 4, 4, 1, 1, 5, 1, 3, 5, 2, 1, 3, 4, 5, 1,\n",
              "       5, 5, 2, 2, 4, 4, 3, 1, 1, 4, 5, 3, 1, 2, 5, 1, 5, 2, 3, 3, 4, 5,\n",
              "       5, 2, 2, 4, 2, 2, 2, 4, 3, 2, 4, 2, 2, 5, 2, 5, 4, 3, 2, 3, 1, 4,\n",
              "       3, 4, 1, 5, 3, 2, 2, 5, 2, 3, 2, 2, 3, 4, 4, 4, 1, 4, 5, 4, 4, 5,\n",
              "       4, 5, 1, 2, 1, 5, 3, 1, 5, 2, 2, 2, 1, 2, 4, 4, 4, 2, 2, 5, 2, 4,\n",
              "       2, 5, 1, 4, 2, 3, 2, 5, 1, 1, 1, 2, 4, 4, 1, 4, 5, 3, 1, 2, 5, 3,\n",
              "       1, 5, 4, 3, 4, 3, 4, 4, 1, 5, 2, 5, 1, 4, 1, 2, 3, 2, 1, 4, 4, 1,\n",
              "       4, 4, 4, 2, 1, 5, 1, 5, 2, 3, 4, 1, 4, 2, 3, 4, 5, 4, 1, 2, 1, 3,\n",
              "       5, 1, 3, 1, 5, 1, 3, 1, 1, 2, 4, 2, 1, 1, 2, 2, 2, 4, 4, 4, 2, 4,\n",
              "       5, 2, 3, 2, 3, 3, 1, 4, 5, 2, 2, 3, 4, 2, 5, 5, 1, 5, 2, 4, 1, 3,\n",
              "       2, 5, 3, 4, 3, 5, 4, 5, 3, 2, 3, 1, 2, 1, 2, 4, 3, 4, 4, 4, 2, 4,\n",
              "       3, 4, 3, 2, 2, 1, 2, 5, 3, 2, 2, 5, 4, 5, 3, 2, 2, 3, 1, 5, 5, 5,\n",
              "       1, 4, 5, 2, 4, 2, 1, 4, 3, 3, 3, 3, 5, 3, 3, 2, 1, 2, 1, 2],\n",
              "      dtype=int32)"
            ]
          },
          "metadata": {},
          "execution_count": 58
        }
      ]
    },
    {
      "cell_type": "markdown",
      "metadata": {
        "id": "PqfvMUWtIRJo"
      },
      "source": [
        "T-SNE For K-Means"
      ]
    },
    {
      "cell_type": "code",
      "metadata": {
        "id": "QbYPSlw0AJON",
        "colab": {
          "base_uri": "https://localhost:8080/"
        },
        "outputId": "768a7c5b-2b5e-461d-e3eb-1c52a37fdc19"
      },
      "source": [
        "#TSNE, plotting data in 2-D with K-means\n",
        "from sklearn.manifold import TSNE\n",
        "tsne = TSNE(n_components=2, verbose=1, perplexity=40, n_iter=500)\n",
        "tsne_output = tsne.fit_transform(new_combine_data_scaler)\n",
        "tsne_df = pd.DataFrame(tsne_output, columns = ['d1', 'd2'])"
      ],
      "execution_count": null,
      "outputs": [
        {
          "output_type": "stream",
          "name": "stdout",
          "text": [
            "[t-SNE] Computing 121 nearest neighbors...\n",
            "[t-SNE] Indexed 438 samples in 0.002s...\n",
            "[t-SNE] Computed neighbors for 438 samples in 0.023s...\n",
            "[t-SNE] Computed conditional probabilities for sample 438 / 438\n",
            "[t-SNE] Mean sigma: 1.029817\n"
          ]
        },
        {
          "output_type": "stream",
          "name": "stderr",
          "text": [
            "/usr/local/lib/python3.7/dist-packages/sklearn/manifold/_t_sne.py:783: FutureWarning: The default initialization in TSNE will change from 'random' to 'pca' in 1.2.\n",
            "  FutureWarning,\n",
            "/usr/local/lib/python3.7/dist-packages/sklearn/manifold/_t_sne.py:793: FutureWarning: The default learning rate in TSNE will change from 200.0 to 'auto' in 1.2.\n",
            "  FutureWarning,\n"
          ]
        },
        {
          "output_type": "stream",
          "name": "stdout",
          "text": [
            "[t-SNE] KL divergence after 250 iterations with early exaggeration: 64.470703\n",
            "[t-SNE] KL divergence after 500 iterations: 0.768077\n"
          ]
        }
      ]
    },
    {
      "cell_type": "code",
      "metadata": {
        "id": "FFsiO1APAqBA"
      },
      "source": [
        "km1 = km.fit(new_combine_data_scaler)\n",
        "hue_labels = km.labels_"
      ],
      "execution_count": null,
      "outputs": []
    },
    {
      "cell_type": "code",
      "metadata": {
        "id": "-Ej0FwsBArAx",
        "colab": {
          "base_uri": "https://localhost:8080/",
          "height": 550
        },
        "outputId": "2d2a86a4-b6e3-44c7-fe13-d27c3bbd0f7f"
      },
      "source": [
        "sns.set(rc={'figure.figsize':(11.7,8.27)})\n",
        "sns.set_style(\"whitegrid\")\n",
        "tsne_plot = sns.scatterplot(\n",
        "    x=\"d1\", y=\"d2\",\n",
        "    hue=hue_labels,\n",
        "    palette=sns.color_palette(\"hls\", 5),\n",
        "    data=tsne_df,\n",
        "    legend=\"full\",\n",
        "    alpha=1)\n",
        "tsne_plot.set_title('K-Means NBA Positional Clustering T-SNE Plot')\n",
        "tsne_plot.legend(['Cluster 1', 'Cluster 2', 'Cluster 3', 'Cluster 4', 'Cluster 5'])"
      ],
      "execution_count": null,
      "outputs": [
        {
          "output_type": "execute_result",
          "data": {
            "text/plain": [
              "<matplotlib.legend.Legend at 0x7f61b31142d0>"
            ]
          },
          "metadata": {},
          "execution_count": 61
        },
        {
          "output_type": "display_data",
          "data": {
            "image/png": "[encoded data removed]",
            "text/plain": [
              "<Figure size 842.4x595.44 with 1 Axes>"
            ]
          },
          "metadata": {}
        }
      ]
    },
    {
      "cell_type": "markdown",
      "metadata": {
        "id": "QR_7e8_l7pKC"
      },
      "source": [
        "GMM"
      ]
    },
    {
      "cell_type": "code",
      "metadata": {
        "id": "NV8HpXVA7oOX"
      },
      "source": [
        "from sklearn.mixture import GaussianMixture\n",
        "X = new_combine_data\n",
        "gm = GaussianMixture(n_components=5, random_state=0).fit(X)"
      ],
      "execution_count": null,
      "outputs": []
    },
    {
      "cell_type": "code",
      "metadata": {
        "id": "P_tpRKFi7oOY"
      },
      "source": [
        "gm_results = gm.predict(X)"
      ],
      "execution_count": null,
      "outputs": []
    },
    {
      "cell_type": "code",
      "metadata": {
        "id": "6qk4sF1MwdfZ",
        "colab": {
          "base_uri": "https://localhost:8080/"
        },
        "outputId": "e676345e-8193-4376-a13b-774073f7e2f0"
      },
      "source": [
        "print(\"gmm: silhouttte: \", silhouette_score(X, gm_results))"
      ],
      "execution_count": null,
      "outputs": [
        {
          "output_type": "stream",
          "name": "stdout",
          "text": [
            "gmm: silhouttte:  0.0928775892773352\n"
          ]
        }
      ]
    },
    {
      "cell_type": "code",
      "metadata": {
        "id": "XN8FFdml7oOZ"
      },
      "source": [
        "gm_results = gm_results + 1"
      ],
      "execution_count": null,
      "outputs": []
    },
    {
      "cell_type": "code",
      "metadata": {
        "id": "WyDMHBuE7oOZ",
        "colab": {
          "base_uri": "https://localhost:8080/"
        },
        "outputId": "5bd63ab1-a95e-4859-e286-47f390a74a12"
      },
      "source": [
        "#Cluster Values for all Combine Players\n",
        "gm_results"
      ],
      "execution_count": null,
      "outputs": [
        {
          "output_type": "execute_result",
          "data": {
            "text/plain": [
              "array([5, 2, 3, 5, 5, 2, 5, 2, 4, 4, 4, 4, 5, 5, 5, 2, 3, 2, 2, 4, 5, 5,\n",
              "       2, 5, 5, 5, 1, 5, 5, 3, 2, 3, 2, 5, 4, 3, 5, 4, 2, 4, 5, 4, 2, 5,\n",
              "       2, 3, 5, 2, 2, 5, 2, 5, 5, 5, 2, 4, 5, 3, 5, 5, 3, 2, 1, 5, 3, 3,\n",
              "       2, 4, 2, 2, 2, 5, 3, 5, 1, 5, 1, 5, 2, 1, 5, 5, 5, 3, 1, 5, 3, 3,\n",
              "       2, 2, 2, 5, 1, 2, 5, 5, 5, 4, 5, 2, 5, 3, 4, 3, 1, 3, 5, 5, 3, 3,\n",
              "       1, 1, 5, 1, 5, 5, 4, 2, 3, 3, 2, 3, 4, 3, 2, 4, 4, 2, 2, 4, 1, 5,\n",
              "       5, 4, 2, 5, 5, 2, 2, 5, 2, 3, 3, 5, 5, 3, 5, 1, 5, 2, 2, 5, 5, 5,\n",
              "       2, 2, 5, 2, 5, 3, 5, 3, 3, 3, 3, 4, 4, 2, 5, 2, 3, 2, 3, 1, 2, 3,\n",
              "       2, 2, 3, 4, 1, 5, 5, 2, 3, 3, 2, 5, 3, 2, 2, 3, 2, 4, 5, 5, 5, 4,\n",
              "       4, 2, 2, 5, 5, 2, 2, 2, 5, 2, 2, 2, 2, 2, 2, 4, 5, 3, 5, 5, 3, 5,\n",
              "       5, 2, 4, 2, 3, 4, 2, 4, 3, 5, 2, 3, 5, 5, 3, 5, 2, 2, 4, 2, 5, 4,\n",
              "       2, 2, 2, 2, 5, 2, 3, 2, 4, 3, 2, 4, 2, 2, 1, 1, 2, 2, 2, 2, 4, 5,\n",
              "       2, 4, 3, 5, 2, 5, 2, 4, 2, 2, 2, 3, 3, 5, 3, 5, 2, 1, 5, 2, 4, 3,\n",
              "       2, 4, 5, 5, 2, 1, 5, 5, 3, 2, 2, 2, 4, 5, 2, 2, 5, 3, 4, 5, 2, 2,\n",
              "       5, 5, 5, 3, 4, 2, 3, 4, 2, 1, 5, 2, 5, 2, 1, 3, 2, 2, 2, 2, 2, 5,\n",
              "       4, 4, 1, 4, 4, 4, 5, 3, 3, 2, 3, 3, 3, 3, 2, 2, 2, 3, 5, 5, 2, 3,\n",
              "       4, 3, 5, 2, 1, 5, 3, 3, 2, 3, 2, 5, 5, 3, 4, 4, 2, 2, 2, 5, 4, 5,\n",
              "       2, 4, 5, 2, 5, 2, 2, 3, 5, 5, 5, 3, 2, 3, 3, 5, 5, 5, 5, 5, 4, 5,\n",
              "       3, 5, 1, 2, 2, 2, 2, 4, 3, 5, 5, 4, 5, 4, 1, 2, 2, 5, 3, 4, 2, 2,\n",
              "       4, 1, 4, 4, 5, 2, 3, 3, 5, 3, 3, 1, 4, 5, 1, 2, 3, 3, 3, 2])"
            ]
          },
          "metadata": {},
          "execution_count": 66
        }
      ]
    },
    {
      "cell_type": "markdown",
      "metadata": {
        "id": "-c6AxtdiIfXr"
      },
      "source": [
        "T-SNE For GMM"
      ]
    },
    {
      "cell_type": "code",
      "metadata": {
        "id": "IDwWR8rqEOmM",
        "colab": {
          "base_uri": "https://localhost:8080/"
        },
        "outputId": "749293f6-5b4b-47ec-e33c-f46322f17270"
      },
      "source": [
        "#T-SNE, plotting data in 2-D with GMM\n",
        "tsne = TSNE(n_components=2, verbose=1, perplexity=40, n_iter=500)\n",
        "tsne_output = tsne.fit_transform(new_combine_data)\n",
        "tsne_df = pd.DataFrame(tsne_output, columns = ['d1', 'd2'])"
      ],
      "execution_count": null,
      "outputs": [
        {
          "output_type": "stream",
          "name": "stdout",
          "text": [
            "[t-SNE] Computing 121 nearest neighbors...\n",
            "[t-SNE] Indexed 438 samples in 0.001s...\n",
            "[t-SNE] Computed neighbors for 438 samples in 0.028s...\n",
            "[t-SNE] Computed conditional probabilities for sample 438 / 438\n",
            "[t-SNE] Mean sigma: 5.126696\n"
          ]
        },
        {
          "output_type": "stream",
          "name": "stderr",
          "text": [
            "/usr/local/lib/python3.7/dist-packages/sklearn/manifold/_t_sne.py:783: FutureWarning: The default initialization in TSNE will change from 'random' to 'pca' in 1.2.\n",
            "  FutureWarning,\n",
            "/usr/local/lib/python3.7/dist-packages/sklearn/manifold/_t_sne.py:793: FutureWarning: The default learning rate in TSNE will change from 200.0 to 'auto' in 1.2.\n",
            "  FutureWarning,\n"
          ]
        },
        {
          "output_type": "stream",
          "name": "stdout",
          "text": [
            "[t-SNE] KL divergence after 250 iterations with early exaggeration: 56.674850\n",
            "[t-SNE] KL divergence after 500 iterations: 0.382747\n"
          ]
        }
      ]
    },
    {
      "cell_type": "code",
      "metadata": {
        "id": "pivRsG96EOmM"
      },
      "source": [
        "gm1 = gm.fit_predict(new_combine_data)\n",
        "hue_labels = gm1"
      ],
      "execution_count": null,
      "outputs": []
    },
    {
      "cell_type": "code",
      "metadata": {
        "id": "q14nxFlpEOmN",
        "colab": {
          "base_uri": "https://localhost:8080/",
          "height": 550
        },
        "outputId": "911989f1-8e2a-4218-c0c5-c48eaf4543f0"
      },
      "source": [
        "sns.set(rc={'figure.figsize':(11.7,8.27)})\n",
        "sns.set_style(\"whitegrid\")\n",
        "tsne_plot = sns.scatterplot(\n",
        "    x=\"d1\", y=\"d2\",\n",
        "    hue=hue_labels,\n",
        "    palette=sns.color_palette(\"hls\", 5),\n",
        "    data=tsne_df,\n",
        "    legend=\"full\",\n",
        "    alpha=1)\n",
        "tsne_plot.set_title('GMM NBA Positional Clustering T-SNE Plot')\n",
        "tsne_plot.legend(['Cluster 1', 'Cluster 2', 'Cluster 3', 'Cluster 4', 'Cluster 5'])"
      ],
      "execution_count": null,
      "outputs": [
        {
          "output_type": "execute_result",
          "data": {
            "text/plain": [
              "<matplotlib.legend.Legend at 0x7f61b30c0f10>"
            ]
          },
          "metadata": {},
          "execution_count": 69
        },
        {
          "output_type": "display_data",
          "data": {
            "image/png": "[encoded data removed]",
            "text/plain": [
              "<Figure size 842.4x595.44 with 1 Axes>"
            ]
          },
          "metadata": {}
        }
      ]
    }
  ]
}